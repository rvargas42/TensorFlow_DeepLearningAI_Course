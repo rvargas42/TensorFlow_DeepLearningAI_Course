{
 "cells": [
  {
   "cell_type": "markdown",
   "id": "a10bc2ee",
   "metadata": {
    "id": "a10bc2ee"
   },
   "source": [
    "# Week 1: Using CNN's with the Cats vs Dogs Dataset\n",
    "\n",
    "Welcome to the 1st assignment of the course! This week, you will be using the famous `Cats vs Dogs` dataset to train a model that can classify images of dogs from images of cats. For this, you will create your own Convolutional Neural Network in Tensorflow and leverage Keras' image preprocessing utilities.\n",
    "\n",
    "You will also create some helper functions to move the images around the filesystem so if you are not familiar with the `os` module be sure to take a look a the [docs](https://docs.python.org/3/library/os.html).\n",
    "\n",
    "Let's get started!"
   ]
  },
  {
   "cell_type": "markdown",
   "id": "7dd65c4f",
   "metadata": {
    "id": "7dd65c4f"
   },
   "source": [
    "_**NOTE:** To prevent errors from the autograder, please avoid editing or deleting non-graded cells in this notebook . Please only put your solutions in between the `### START CODE HERE` and `### END CODE HERE` code comments, and refrain from adding any new cells._"
   ]
  },
  {
   "cell_type": "code",
   "execution_count": 1,
   "id": "d43abc49",
   "metadata": {
    "id": "d43abc49",
    "tags": [
     "graded"
    ]
   },
   "outputs": [],
   "source": [
    "# grader-required-cell\n",
    "\n",
    "import os\n",
    "import zipfile\n",
    "import random\n",
    "import shutil\n",
    "import tensorflow as tf\n",
    "from tensorflow.keras.preprocessing.image import ImageDataGenerator\n",
    "from shutil import copyfile\n",
    "import matplotlib.pyplot as plt"
   ]
  },
  {
   "cell_type": "markdown",
   "id": "0000eebe",
   "metadata": {
    "id": "0000eebe"
   },
   "source": [
    "Download the dataset from its original source by running the cell below.\n",
    "\n",
    "Note that the `zip` file that contains the images is unzipped under the `/tmp` directory."
   ]
  },
  {
   "cell_type": "code",
   "execution_count": 2,
   "id": "dfe8528d",
   "metadata": {
    "colab": {
     "base_uri": "https://localhost:8080/"
    },
    "id": "dfe8528d",
    "lines_to_next_cell": 2,
    "outputId": "7ae2d2cc-424a-40ba-f9d1-7a964734e52c",
    "tags": []
   },
   "outputs": [
    {
     "name": "stderr",
     "output_type": "stream",
     "text": [
      "\"wget\" no se reconoce como un comando interno o externo,\n",
      "programa o archivo por lotes ejecutable.\n"
     ]
    },
    {
     "ename": "FileNotFoundError",
     "evalue": "[Errno 2] No such file or directory: '/tmp/cats-and-dogs.zip'",
     "output_type": "error",
     "traceback": [
      "\u001b[1;31m---------------------------------------------------------------------------\u001b[0m",
      "\u001b[1;31mFileNotFoundError\u001b[0m                         Traceback (most recent call last)",
      "Cell \u001b[1;32mIn[2], line 9\u001b[0m\n\u001b[0;32m      6\u001b[0m get_ipython()\u001b[38;5;241m.\u001b[39msystem(\u001b[38;5;124m'\u001b[39m\u001b[38;5;124mwget --no-check-certificate      \u001b[39m\u001b[38;5;124m\"\u001b[39m\u001b[38;5;124mhttps://download.microsoft.com/download/3/E/1/3E1C3F21-ECDB-4869-8368-6DEBA77B919F/kagglecatsanddogs_5340.zip\u001b[39m\u001b[38;5;124m\"\u001b[39m\u001b[38;5;124m      -O \u001b[39m\u001b[38;5;124m\"\u001b[39m\u001b[38;5;124m/tmp/cats-and-dogs.zip\u001b[39m\u001b[38;5;124m\"\u001b[39m\u001b[38;5;124m'\u001b[39m)\n\u001b[0;32m      8\u001b[0m local_zip \u001b[38;5;241m=\u001b[39m \u001b[38;5;124m'\u001b[39m\u001b[38;5;124m/tmp/cats-and-dogs.zip\u001b[39m\u001b[38;5;124m'\u001b[39m\n\u001b[1;32m----> 9\u001b[0m zip_ref   \u001b[38;5;241m=\u001b[39m \u001b[43mzipfile\u001b[49m\u001b[38;5;241;43m.\u001b[39;49m\u001b[43mZipFile\u001b[49m\u001b[43m(\u001b[49m\u001b[43mlocal_zip\u001b[49m\u001b[43m,\u001b[49m\u001b[43m \u001b[49m\u001b[38;5;124;43m'\u001b[39;49m\u001b[38;5;124;43mr\u001b[39;49m\u001b[38;5;124;43m'\u001b[39;49m\u001b[43m)\u001b[49m\n\u001b[0;32m     10\u001b[0m zip_ref\u001b[38;5;241m.\u001b[39mextractall(\u001b[38;5;124m'\u001b[39m\u001b[38;5;124m/tmp\u001b[39m\u001b[38;5;124m'\u001b[39m)\n\u001b[0;32m     11\u001b[0m zip_ref\u001b[38;5;241m.\u001b[39mclose()\n",
      "File \u001b[1;32m~\\anaconda3\\envs\\tflow-gpu\\lib\\zipfile.py:1248\u001b[0m, in \u001b[0;36mZipFile.__init__\u001b[1;34m(self, file, mode, compression, allowZip64, compresslevel, strict_timestamps)\u001b[0m\n\u001b[0;32m   1246\u001b[0m \u001b[38;5;28;01mwhile\u001b[39;00m \u001b[38;5;28;01mTrue\u001b[39;00m:\n\u001b[0;32m   1247\u001b[0m     \u001b[38;5;28;01mtry\u001b[39;00m:\n\u001b[1;32m-> 1248\u001b[0m         \u001b[38;5;28mself\u001b[39m\u001b[38;5;241m.\u001b[39mfp \u001b[38;5;241m=\u001b[39m \u001b[43mio\u001b[49m\u001b[38;5;241;43m.\u001b[39;49m\u001b[43mopen\u001b[49m\u001b[43m(\u001b[49m\u001b[43mfile\u001b[49m\u001b[43m,\u001b[49m\u001b[43m \u001b[49m\u001b[43mfilemode\u001b[49m\u001b[43m)\u001b[49m\n\u001b[0;32m   1249\u001b[0m     \u001b[38;5;28;01mexcept\u001b[39;00m \u001b[38;5;167;01mOSError\u001b[39;00m:\n\u001b[0;32m   1250\u001b[0m         \u001b[38;5;28;01mif\u001b[39;00m filemode \u001b[38;5;129;01min\u001b[39;00m modeDict:\n",
      "\u001b[1;31mFileNotFoundError\u001b[0m: [Errno 2] No such file or directory: '/tmp/cats-and-dogs.zip'"
     ]
    }
   ],
   "source": [
    "# If the URL doesn't work, visit https://www.microsoft.com/en-us/download/confirmation.aspx?id=54765\n",
    "# And right click on the 'Download Manually' link to get a new URL to the dataset\n",
    "\n",
    "# Note: This is a very large dataset and will take some time to download\n",
    "\n",
    "!wget --no-check-certificate \\\n",
    "    \"https://download.microsoft.com/download/3/E/1/3E1C3F21-ECDB-4869-8368-6DEBA77B919F/kagglecatsanddogs_5340.zip\" \\\n",
    "    -O \"/tmp/cats-and-dogs.zip\"\n",
    "\n",
    "local_zip = '/tmp/cats-and-dogs.zip'\n",
    "zip_ref   = zipfile.ZipFile(local_zip, 'r')\n",
    "zip_ref.extractall('/tmp')\n",
    "zip_ref.close()"
   ]
  },
  {
   "cell_type": "markdown",
   "id": "4dd9f52b",
   "metadata": {
    "id": "4dd9f52b"
   },
   "source": [
    "Now the images are stored within the `/tmp/PetImages` directory. There is a subdirectory for each class, so one for dogs and one for cats."
   ]
  },
  {
   "cell_type": "code",
   "execution_count": 6,
   "id": "76034c9d",
   "metadata": {
    "colab": {
     "base_uri": "https://localhost:8080/"
    },
    "id": "76034c9d",
    "outputId": "fb806f3e-73f7-43a0-d6bb-f60e7e394114",
    "tags": [
     "graded"
    ]
   },
   "outputs": [
    {
     "name": "stdout",
     "output_type": "stream",
     "text": [
      "There are 12500 images of dogs.\n",
      "There are 12500 images of cats.\n"
     ]
    }
   ],
   "source": [
    "# grader-required-cell\n",
    "\n",
    "source_path = '/tmp/PetImages'\n",
    "\n",
    "source_path_dogs = os.path.join(source_path, 'Dog')\n",
    "source_path_cats = os.path.join(source_path, 'Cat')\n",
    "\n",
    "# Deletes all non-image files (there are two .db files bundled into the dataset)\n",
    "!find /tmp/PetImages/ -type f ! -name \"*.jpg\" -exec rm {} +\n",
    "\n",
    "# os.listdir returns a list containing all files under the given path\n",
    "print(f\"There are {len(os.listdir(source_path_dogs))} images of dogs.\")\n",
    "print(f\"There are {len(os.listdir(source_path_cats))} images of cats.\")"
   ]
  },
  {
   "cell_type": "markdown",
   "id": "1b32b528",
   "metadata": {
    "id": "1b32b528"
   },
   "source": [
    "**Expected Output:**\n",
    "\n",
    "```\n",
    "There are 12500 images of dogs.\n",
    "There are 12500 images of cats.\n",
    "```"
   ]
  },
  {
   "cell_type": "markdown",
   "id": "6753b45c",
   "metadata": {
    "id": "6753b45c"
   },
   "source": [
    "You will need a directory for cats-v-dogs, and subdirectories for training\n",
    "and validation. These in turn will need subdirectories for 'cats' and 'dogs'. To accomplish this, complete the `create_train_val_dirs` below:"
   ]
  },
  {
   "cell_type": "code",
   "execution_count": 7,
   "id": "1e6c840a",
   "metadata": {
    "cellView": "code",
    "id": "1e6c840a",
    "tags": [
     "graded"
    ]
   },
   "outputs": [],
   "source": [
    "# grader-required-cell\n",
    "\n",
    "# Define root directory\n",
    "root_dir = '/tmp/cats-v-dogs'\n",
    "\n",
    "# Empty directory to prevent FileExistsError is the function is run several times\n",
    "if os.path.exists(root_dir):\n",
    "  shutil.rmtree(root_dir)\n",
    "\n",
    "# GRADED FUNCTION: create_train_val_dirs\n",
    "def create_train_val_dirs(root_path):\n",
    "  \"\"\"\n",
    "  Creates directories for the train and test sets\n",
    "\n",
    "  Args:\n",
    "    root_path (string) - the base directory path to create subdirectories from\n",
    "\n",
    "  Returns:\n",
    "    None\n",
    "  \"\"\"\n",
    "  ### START CODE HERE\n",
    "\n",
    "  # HINT:\n",
    "  # Use os.makedirs to create your directories with intermediate subdirectories\n",
    "  # Don't hardcode the paths. Use os.path.join to append the new directories to the root_path parameter\n",
    "\n",
    "  os.makedirs(os.path.join(root_path,\"training\",\"cats\"))\n",
    "  os.makedirs(os.path.join(root_path,\"training\",\"dogs\"))\n",
    "  os.makedirs(os.path.join(root_path,\"validation\", \"cats\"))\n",
    "  os.makedirs(os.path.join(root_path,\"validation\", \"dogs\"))\n",
    "\n",
    "  ### END CODE HERE\n",
    "\n",
    "\n",
    "try:\n",
    "  create_train_val_dirs(root_path=root_dir)\n",
    "except FileExistsError:\n",
    "  print(\"You should not be seeing this since the upper directory is removed beforehand\")"
   ]
  },
  {
   "cell_type": "code",
   "execution_count": 8,
   "id": "08f735fe",
   "metadata": {
    "colab": {
     "base_uri": "https://localhost:8080/"
    },
    "id": "08f735fe",
    "outputId": "b0bcf728-8765-4518-dc80-2ef7bfe3771d",
    "tags": [
     "graded"
    ]
   },
   "outputs": [
    {
     "name": "stdout",
     "output_type": "stream",
     "text": [
      "/tmp/cats-v-dogs/training\n",
      "/tmp/cats-v-dogs/validation\n",
      "/tmp/cats-v-dogs/training/cats\n",
      "/tmp/cats-v-dogs/training/dogs\n",
      "/tmp/cats-v-dogs/validation/cats\n",
      "/tmp/cats-v-dogs/validation/dogs\n"
     ]
    }
   ],
   "source": [
    "# grader-required-cell\n",
    "\n",
    "# Test your create_train_val_dirs function\n",
    "\n",
    "for rootdir, dirs, files in os.walk(root_dir):\n",
    "    for subdir in dirs:\n",
    "        print(os.path.join(rootdir, subdir))"
   ]
  },
  {
   "cell_type": "markdown",
   "id": "09e13d4e",
   "metadata": {
    "id": "09e13d4e"
   },
   "source": [
    "**Expected Output (directory order might vary):**\n",
    "\n",
    "``` txt\n",
    "/tmp/cats-v-dogs/training\n",
    "/tmp/cats-v-dogs/validation\n",
    "/tmp/cats-v-dogs/training/cats\n",
    "/tmp/cats-v-dogs/training/dogs\n",
    "/tmp/cats-v-dogs/validation/cats\n",
    "/tmp/cats-v-dogs/validation/dogs\n",
    "\n",
    "```"
   ]
  },
  {
   "cell_type": "markdown",
   "id": "9413f4e5",
   "metadata": {
    "id": "9413f4e5"
   },
   "source": [
    "Code the `split_data` function which takes in the following arguments:\n",
    "- SOURCE_DIR: directory containing the files\n",
    "\n",
    "- TRAINING_DIR: directory that a portion of the files will be copied to (will be used for training)\n",
    "- VALIDATION_DIR: directory that a portion of the files will be copied to (will be used for validation)\n",
    "- SPLIT_SIZE: determines the portion of images used for training.\n",
    "\n",
    "The files should be randomized, so that the training set is a random sample of the files, and the validation set is made up of the remaining files.\n",
    "\n",
    "For example, if `SOURCE_DIR` is `PetImages/Cat`, and `SPLIT_SIZE` is .9 then 90% of the images in `PetImages/Cat` will be copied to the `TRAINING_DIR` directory\n",
    "and 10% of the images will be copied to the `VALIDATION_DIR` directory.\n",
    "\n",
    "All images should be checked before the copy, so if they have a zero file length, they will be omitted from the copying process. If this is the case then your function should print out a message such as `\"filename is zero length, so ignoring.\"`. **You should perform this check before the split so that only non-zero images are considered when doing the actual split.**\n",
    "\n",
    "\n",
    "Hints:\n",
    "\n",
    "- `os.listdir(DIRECTORY)` returns a list with the contents of that directory.\n",
    "\n",
    "- `os.path.getsize(PATH)` returns the size of the file\n",
    "\n",
    "- `copyfile(source, destination)` copies a file from source to destination\n",
    "\n",
    "- `random.sample(list, len(list))` shuffles a list"
   ]
  },
  {
   "cell_type": "code",
   "execution_count": 9,
   "id": "e1c123a7",
   "metadata": {
    "cellView": "code",
    "id": "e1c123a7",
    "tags": [
     "graded"
    ]
   },
   "outputs": [],
   "source": [
    "# grader-required-cell\n",
    "\n",
    "# GRADED FUNCTION: split_data\n",
    "def split_data(SOURCE_DIR, TRAINING_DIR, VALIDATION_DIR, SPLIT_SIZE):\n",
    "  \"\"\"\n",
    "  Splits the data into train and test sets\n",
    "\n",
    "  Args:\n",
    "    SOURCE_DIR (string): directory path containing the images\n",
    "    TRAINING_DIR (string): directory path to be used for training\n",
    "    VALIDATION_DIR (string): directory path to be used for validation\n",
    "    SPLIT_SIZE (float): proportion of the dataset to be used for training\n",
    "\n",
    "  Returns:\n",
    "    None\n",
    "  \"\"\"\n",
    "\n",
    "\n",
    "\n",
    "  ### START CODE HERE\n",
    "  images = [i for i in os.listdir(SOURCE_DIR) if i.endswith(\".jpg\")]\n",
    "  idx = int(len(images)*SPLIT_SIZE)\n",
    "  random.shuffle(images)\n",
    "  training_set = [i for i in images[:idx]]\n",
    "  validation_set = [i for i in images[idx:]]\n",
    "  print(validation_set)\n",
    "  for f in training_set:\n",
    "    src = os.path.join(SOURCE_DIR,f)\n",
    "    if os.path.getsize(src):\n",
    "        copyfile(src, os.path.join(TRAINING_DIR,f))\n",
    "  for f in validation_set:\n",
    "    src = os.path.join(SOURCE_DIR,f)\n",
    "    if os.path.getsize(src):\n",
    "        copyfile(src, os.path.join(VALIDATION_DIR,f))\n",
    "\n",
    "  ### END CODE HERE\n"
   ]
  },
  {
   "cell_type": "code",
   "execution_count": 10,
   "id": "7f488106",
   "metadata": {
    "colab": {
     "base_uri": "https://localhost:8080/"
    },
    "id": "7f488106",
    "outputId": "d676208d-83bc-48f7-9567-d7c0bce664f2",
    "tags": [
     "graded"
    ]
   },
   "outputs": [
    {
     "name": "stdout",
     "output_type": "stream",
     "text": [
      "['1747.jpg', '1760.jpg', '8112.jpg', '9107.jpg', '7419.jpg', '7840.jpg', '10352.jpg', '4030.jpg', '1535.jpg', '11437.jpg', '7282.jpg', '4561.jpg', '459.jpg', '960.jpg', '8908.jpg', '4076.jpg', '5657.jpg', '3125.jpg', '740.jpg', '12328.jpg', '2130.jpg', '9597.jpg', '3943.jpg', '5058.jpg', '9519.jpg', '9760.jpg', '6393.jpg', '4247.jpg', '723.jpg', '5583.jpg', '941.jpg', '31.jpg', '6875.jpg', '5861.jpg', '10240.jpg', '7903.jpg', '9786.jpg', '10729.jpg', '8275.jpg', '12012.jpg', '3870.jpg', '4367.jpg', '6471.jpg', '934.jpg', '8989.jpg', '6083.jpg', '5096.jpg', '6530.jpg', '8430.jpg', '6804.jpg', '6654.jpg', '10235.jpg', '4686.jpg', '462.jpg', '6287.jpg', '4333.jpg', '4864.jpg', '7525.jpg', '6254.jpg', '9028.jpg', '4463.jpg', '8287.jpg', '9838.jpg', '9653.jpg', '6295.jpg', '9878.jpg', '10832.jpg', '231.jpg', '2923.jpg', '11794.jpg', '11621.jpg', '12335.jpg', '11224.jpg', '4292.jpg', '1918.jpg', '4223.jpg', '1194.jpg', '2285.jpg', '3864.jpg', '6010.jpg', '10971.jpg', '6408.jpg', '8031.jpg', '4234.jpg', '3743.jpg', '12140.jpg', '3509.jpg', '10716.jpg', '10721.jpg', '6587.jpg', '5833.jpg', '2661.jpg', '5183.jpg', '8050.jpg', '1914.jpg', '5628.jpg', '11707.jpg', '6446.jpg', '4148.jpg', '11235.jpg', '5161.jpg', '10219.jpg', '7345.jpg', '4495.jpg', '6761.jpg', '10194.jpg', '10487.jpg', '3010.jpg', '5818.jpg', '241.jpg', '6370.jpg', '1509.jpg', '2375.jpg', '10825.jpg', '7362.jpg', '10793.jpg', '6419.jpg', '9476.jpg', '10523.jpg', '9973.jpg', '8498.jpg', '1323.jpg', '8778.jpg', '2304.jpg', '2403.jpg', '4251.jpg', '1256.jpg', '3131.jpg', '5237.jpg', '1159.jpg', '7240.jpg', '7081.jpg', '5073.jpg', '1381.jpg', '3411.jpg', '7222.jpg', '7392.jpg', '10273.jpg', '10170.jpg', '3504.jpg', '7702.jpg', '9547.jpg', '8551.jpg', '1979.jpg', '5445.jpg', '12307.jpg', '2254.jpg', '7174.jpg', '1123.jpg', '4915.jpg', '12132.jpg', '1021.jpg', '5269.jpg', '6593.jpg', '2918.jpg', '4654.jpg', '3172.jpg', '6077.jpg', '4254.jpg', '10823.jpg', '6652.jpg', '540.jpg', '9266.jpg', '2055.jpg', '12103.jpg', '10666.jpg', '2043.jpg', '10186.jpg', '129.jpg', '9976.jpg', '3723.jpg', '8392.jpg', '4491.jpg', '10459.jpg', '7114.jpg', '5276.jpg', '5153.jpg', '4962.jpg', '10938.jpg', '985.jpg', '12093.jpg', '11204.jpg', '3399.jpg', '1387.jpg', '4159.jpg', '12006.jpg', '682.jpg', '12035.jpg', '5082.jpg', '5923.jpg', '11876.jpg', '10843.jpg', '9721.jpg', '5299.jpg', '11255.jpg', '1529.jpg', '680.jpg', '8014.jpg', '577.jpg', '11609.jpg', '8151.jpg', '5047.jpg', '7939.jpg', '6662.jpg', '5917.jpg', '2066.jpg', '6544.jpg', '43.jpg', '2126.jpg', '8776.jpg', '5547.jpg', '11365.jpg', '7228.jpg', '8982.jpg', '3519.jpg', '9412.jpg', '5014.jpg', '10758.jpg', '899.jpg', '11409.jpg', '2266.jpg', '10628.jpg', '131.jpg', '5467.jpg', '10247.jpg', '11572.jpg', '10990.jpg', '12497.jpg', '7744.jpg', '10920.jpg', '9925.jpg', '1293.jpg', '7642.jpg', '10780.jpg', '5302.jpg', '9765.jpg', '2670.jpg', '3471.jpg', '2189.jpg', '6799.jpg', '12216.jpg', '8094.jpg', '2158.jpg', '7389.jpg', '5998.jpg', '3710.jpg', '7986.jpg', '1669.jpg', '330.jpg', '5510.jpg', '3953.jpg', '7418.jpg', '3168.jpg', '8865.jpg', '4911.jpg', '6494.jpg', '10588.jpg', '7812.jpg', '6913.jpg', '6917.jpg', '4759.jpg', '6657.jpg', '765.jpg', '12076.jpg', '6049.jpg', '11418.jpg', '2817.jpg', '9882.jpg', '4291.jpg', '12352.jpg', '1592.jpg', '3244.jpg', '572.jpg', '8012.jpg', '11148.jpg', '6475.jpg', '8730.jpg', '8800.jpg', '7854.jpg', '6712.jpg', '9275.jpg', '10206.jpg', '921.jpg', '11885.jpg', '10039.jpg', '9315.jpg', '9241.jpg', '4053.jpg', '9435.jpg', '1490.jpg', '6394.jpg', '11846.jpg', '6959.jpg', '5894.jpg', '6582.jpg', '2627.jpg', '7855.jpg', '7641.jpg', '6217.jpg', '1765.jpg', '649.jpg', '9332.jpg', '4818.jpg', '724.jpg', '647.jpg', '8506.jpg', '1613.jpg', '6877.jpg', '12115.jpg', '2338.jpg', '1880.jpg', '3568.jpg', '11169.jpg', '8029.jpg', '10756.jpg', '6610.jpg', '216.jpg', '9428.jpg', '11913.jpg', '11902.jpg', '4672.jpg', '5660.jpg', '2883.jpg', '5095.jpg', '12131.jpg', '9993.jpg', '3272.jpg', '160.jpg', '8490.jpg', '2964.jpg', '10768.jpg', '12051.jpg', '11503.jpg', '8992.jpg', '3511.jpg', '11880.jpg', '4835.jpg', '11928.jpg', '3816.jpg', '4748.jpg', '4331.jpg', '9550.jpg', '3959.jpg', '6599.jpg', '2618.jpg', '1240.jpg', '11829.jpg', '5122.jpg', '7128.jpg', '1957.jpg', '10779.jpg', '132.jpg', '5796.jpg', '354.jpg', '9003.jpg', '5250.jpg', '9234.jpg', '9968.jpg', '5481.jpg', '6625.jpg', '1844.jpg', '4716.jpg', '12483.jpg', '2315.jpg', '7131.jpg', '4450.jpg', '3059.jpg', '1364.jpg', '814.jpg', '3694.jpg', '6864.jpg', '11652.jpg', '11008.jpg', '11536.jpg', '275.jpg', '695.jpg', '6646.jpg', '2420.jpg', '9479.jpg', '6185.jpg', '2195.jpg', '7590.jpg', '9496.jpg', '7564.jpg', '9358.jpg', '635.jpg', '1220.jpg', '7756.jpg', '1393.jpg', '5227.jpg', '8722.jpg', '10688.jpg', '11347.jpg', '10794.jpg', '9942.jpg', '9510.jpg', '7980.jpg', '10436.jpg', '9819.jpg', '7291.jpg', '179.jpg', '19.jpg', '3830.jpg', '6316.jpg', '229.jpg', '11282.jpg', '4015.jpg', '11874.jpg', '6779.jpg', '10905.jpg', '621.jpg', '5139.jpg', '3889.jpg', '5441.jpg', '6750.jpg', '7161.jpg', '10336.jpg', '12026.jpg', '527.jpg', '497.jpg', '419.jpg', '5920.jpg', '8464.jpg', '6313.jpg', '8473.jpg', '5984.jpg', '109.jpg', '6014.jpg', '213.jpg', '8389.jpg', '11763.jpg', '4683.jpg', '5684.jpg', '2608.jpg', '9883.jpg', '86.jpg', '8063.jpg', '3873.jpg', '110.jpg', '8762.jpg', '3526.jpg', '1532.jpg', '2823.jpg', '3688.jpg', '9109.jpg', '10899.jpg', '6604.jpg', '3667.jpg', '7073.jpg', '534.jpg', '4615.jpg', '2992.jpg', '6556.jpg', '6764.jpg', '6467.jpg', '340.jpg', '5773.jpg', '4704.jpg', '8598.jpg', '7096.jpg', '1018.jpg', '6640.jpg', '8625.jpg', '5142.jpg', '6073.jpg', '2586.jpg', '8279.jpg', '12242.jpg', '6925.jpg', '8830.jpg', '10848.jpg', '384.jpg', '3453.jpg', '7617.jpg', '7999.jpg', '1103.jpg', '580.jpg', '4787.jpg', '2547.jpg', '6753.jpg', '9704.jpg', '6322.jpg', '3993.jpg', '7743.jpg', '5321.jpg', '1793.jpg', '6805.jpg', '10555.jpg', '2682.jpg', '11424.jpg', '7186.jpg', '8208.jpg', '5308.jpg', '5966.jpg', '12439.jpg', '3095.jpg', '7012.jpg', '12209.jpg', '4676.jpg', '760.jpg', '2521.jpg', '6958.jpg', '6066.jpg', '3302.jpg', '5829.jpg', '9274.jpg', '3183.jpg', '10151.jpg', '7673.jpg', '9431.jpg', '2723.jpg', '5988.jpg', '10638.jpg', '12350.jpg', '2973.jpg', '12339.jpg', '4062.jpg', '4784.jpg', '2409.jpg', '10156.jpg', '2822.jpg', '9928.jpg', '11003.jpg', '7553.jpg', '4699.jpg', '11390.jpg', '8454.jpg', '11951.jpg', '6501.jpg', '12060.jpg', '2998.jpg', '4952.jpg', '3142.jpg', '10783.jpg', '6311.jpg', '4891.jpg', '8947.jpg', '2047.jpg', '8310.jpg', '1796.jpg', '11280.jpg', '9881.jpg', '6822.jpg', '3296.jpg', '11945.jpg', '9658.jpg', '2939.jpg', '5867.jpg', '6377.jpg', '9892.jpg', '2607.jpg', '10481.jpg', '10519.jpg', '11036.jpg', '3404.jpg', '3107.jpg', '9940.jpg', '6512.jpg', '1584.jpg', '11349.jpg', '12332.jpg', '5208.jpg', '1847.jpg', '5516.jpg', '7230.jpg', '1015.jpg', '9108.jpg', '6118.jpg', '5940.jpg', '1868.jpg', '6427.jpg', '329.jpg', '6671.jpg', '3918.jpg', '11762.jpg', '2173.jpg', '616.jpg', '7192.jpg', '7710.jpg', '2053.jpg', '2369.jpg', '1931.jpg', '4925.jpg', '1197.jpg', '5301.jpg', '2925.jpg', '7924.jpg', '12072.jpg', '928.jpg', '7137.jpg', '7039.jpg', '1688.jpg', '6896.jpg', '11738.jpg', '11203.jpg', '12452.jpg', '12198.jpg', '8829.jpg', '7461.jpg', '7936.jpg', '10995.jpg', '4356.jpg', '9037.jpg', '9080.jpg', '10234.jpg', '6928.jpg', '10027.jpg', '8418.jpg', '5903.jpg', '420.jpg', '5664.jpg', '1812.jpg', '2654.jpg', '6125.jpg', '3652.jpg', '9046.jpg', '12386.jpg', '440.jpg', '6274.jpg', '10298.jpg', '1244.jpg', '11538.jpg', '2787.jpg', '326.jpg', '2583.jpg', '8579.jpg', '7993.jpg', '4332.jpg', '8817.jpg', '3841.jpg', '2201.jpg', '10782.jpg', '7443.jpg', '3747.jpg', '11340.jpg', '1875.jpg', '11983.jpg', '11704.jpg', '9320.jpg', '2204.jpg', '3281.jpg', '2576.jpg', '3705.jpg', '2550.jpg', '12189.jpg', '3668.jpg', '4457.jpg', '10209.jpg', '6079.jpg', '8437.jpg', '7593.jpg', '3638.jpg', '3969.jpg', '1112.jpg', '1402.jpg', '7484.jpg', '4167.jpg', '6787.jpg', '8929.jpg', '3770.jpg', '6480.jpg', '9727.jpg', '10798.jpg', '11658.jpg', '11889.jpg', '3678.jpg', '4790.jpg', '9780.jpg', '5924.jpg', '2325.jpg', '7462.jpg', '7875.jpg', '170.jpg', '9710.jpg', '2782.jpg', '2507.jpg', '12183.jpg', '8562.jpg', '1030.jpg', '8168.jpg', '11062.jpg', '4464.jpg', '905.jpg', '6939.jpg', '8246.jpg', '3023.jpg', '10210.jpg', '5288.jpg', '4391.jpg', '6192.jpg', '7036.jpg', '3169.jpg', '10195.jpg', '3635.jpg', '3803.jpg', '10492.jpg', '8113.jpg', '812.jpg', '11364.jpg', '7126.jpg', '6296.jpg', '7008.jpg', '6791.jpg', '2334.jpg', '1232.jpg', '7679.jpg', '7558.jpg', '11373.jpg', '6496.jpg', '3935.jpg', '469.jpg', '4948.jpg', '3443.jpg', '5430.jpg', '10075.jpg', '12188.jpg', '9259.jpg', '4998.jpg', '7715.jpg', '398.jpg', '11825.jpg', '782.jpg', '2832.jpg', '88.jpg', '2234.jpg', '3025.jpg', '7740.jpg', '8406.jpg', '4222.jpg', '6448.jpg', '4638.jpg', '662.jpg', '8451.jpg', '11705.jpg', '7675.jpg', '8192.jpg', '827.jpg', '11620.jpg', '6406.jpg', '3138.jpg', '11221.jpg', '2763.jpg', '5184.jpg', '10573.jpg', '9851.jpg', '5089.jpg', '10258.jpg', '6259.jpg', '8705.jpg', '12013.jpg', '5281.jpg', '11757.jpg', '6424.jpg', '7068.jpg', '7583.jpg', '4225.jpg', '11132.jpg', '3116.jpg', '9343.jpg', '2620.jpg', '7717.jpg', '8644.jpg', '7609.jpg', '5338.jpg', '10790.jpg', '12160.jpg', '8804.jpg', '12366.jpg', '8090.jpg', '1005.jpg', '5736.jpg', '2341.jpg', '2931.jpg', '8682.jpg', '7707.jpg', '8723.jpg', '922.jpg', '2049.jpg', '10253.jpg', '3094.jpg', '10736.jpg', '10837.jpg', '11573.jpg', '3910.jpg', '1640.jpg', '9593.jpg', '2741.jpg', '7580.jpg', '3248.jpg', '12285.jpg', '8425.jpg', '163.jpg', '8554.jpg', '3113.jpg', '1405.jpg', '7575.jpg', '8006.jpg', '2268.jpg', '5187.jpg', '5098.jpg', '8921.jpg', '3995.jpg', '9369.jpg', '6007.jpg', '4400.jpg', '3536.jpg', '1855.jpg', '6997.jpg', '3394.jpg', '2664.jpg', '3627.jpg', '8743.jpg', '284.jpg', '2913.jpg', '8504.jpg', '7779.jpg', '10657.jpg', '10522.jpg', '2111.jpg', '6242.jpg', '135.jpg', '2396.jpg', '2785.jpg', '819.jpg', '8007.jpg', '4041.jpg', '9630.jpg', '10370.jpg', '1335.jpg', '6658.jpg', '12496.jpg', '1292.jpg', '1316.jpg', '9733.jpg', '9975.jpg', '4972.jpg', '5297.jpg', '64.jpg', '6135.jpg', '7799.jpg', '785.jpg', '6435.jpg', '12241.jpg', '4547.jpg', '4051.jpg', '2894.jpg', '8350.jpg', '9785.jpg', '6520.jpg', '904.jpg', '4922.jpg', '6508.jpg', '3306.jpg', '3808.jpg', '7927.jpg', '10380.jpg', '10980.jpg', '1272.jpg', '4424.jpg', '6228.jpg', '12322.jpg', '4163.jpg', '397.jpg', '3224.jpg', '4958.jpg', '12201.jpg', '10091.jpg', '5712.jpg', '3809.jpg', '11379.jpg', '10967.jpg', '8249.jpg', '835.jpg', '4309.jpg', '4825.jpg', '257.jpg', '9750.jpg', '11021.jpg', '5928.jpg', '7058.jpg', '1404.jpg', '2480.jpg', '8749.jpg', '3313.jpg', '2308.jpg', '10054.jpg', '259.jpg', '10942.jpg', '4244.jpg', '18.jpg', '6930.jpg', '573.jpg', '5764.jpg', '9935.jpg', '11542.jpg', '5367.jpg', '6854.jpg', '10272.jpg', '1304.jpg', '7573.jpg', '8630.jpg', '1148.jpg', '4386.jpg', '8080.jpg', '320.jpg', '8053.jpg', '1681.jpg', '3438.jpg', '2900.jpg', '11571.jpg', '2860.jpg', '11827.jpg', '4149.jpg', '2725.jpg', '1930.jpg', '157.jpg', '11166.jpg', '8855.jpg', '9686.jpg', '4597.jpg', '10544.jpg', '7378.jpg', '4929.jpg', '3581.jpg', '9753.jpg', '12117.jpg', '7918.jpg', '3538.jpg', '1136.jpg', '5943.jpg', '10499.jpg', '4470.jpg', '6451.jpg', '5195.jpg', '8248.jpg', '200.jpg', '9541.jpg', '5835.jpg', '2808.jpg', '1849.jpg', '2840.jpg', '3981.jpg', '11736.jpg', '3155.jpg', '587.jpg', '3001.jpg', '6204.jpg', '6139.jpg', '5573.jpg', '4949.jpg', '5339.jpg', '1788.jpg', '11659.jpg', '3255.jpg', '526.jpg', '7296.jpg', '136.jpg', '2372.jpg', '1949.jpg', '7274.jpg', '7255.jpg', '6813.jpg', '3529.jpg', '1305.jpg', '2928.jpg', '7645.jpg', '541.jpg', '1598.jpg', '4703.jpg', '6004.jpg', '714.jpg', '11749.jpg', '4500.jpg', '4158.jpg', '4723.jpg', '2630.jpg', '7890.jpg', '11526.jpg', '706.jpg', '7225.jpg', '8474.jpg', '445.jpg', '4800.jpg', '5370.jpg', '6661.jpg', '7410.jpg', '2982.jpg', '10004.jpg', '1945.jpg', '11935.jpg', '11380.jpg', '3066.jpg', '1487.jpg', '8524.jpg', '6690.jpg', '2721.jpg', '2685.jpg', '4414.jpg', '11634.jpg', '7879.jpg', '5167.jpg', '4449.jpg', '6272.jpg', '12020.jpg', '1049.jpg', '7188.jpg', '2016.jpg', '7876.jpg', '9001.jpg', '8121.jpg', '2170.jpg', '2222.jpg', '11196.jpg', '470.jpg', '8125.jpg', '5623.jpg', '10296.jpg', '4115.jpg', '9633.jpg', '11472.jpg', '3494.jpg', '4583.jpg', '5069.jpg', '11180.jpg', '12469.jpg', '2784.jpg', '10968.jpg', '9722.jpg', '6632.jpg', '9161.jpg', '5429.jpg', '10676.jpg', '6398.jpg', '935.jpg', '9796.jpg', '8326.jpg', '7543.jpg', '5021.jpg', '452.jpg', '50.jpg', '1872.jpg', '6910.jpg', '6437.jpg', '11770.jpg', '1349.jpg', '6147.jpg', '11905.jpg', '3104.jpg', '11772.jpg', '7529.jpg', '12423.jpg', '11745.jpg', '11277.jpg', '12009.jpg', '2070.jpg', '3753.jpg', '1553.jpg', '9889.jpg', '8824.jpg', '6034.jpg', '8962.jpg', '2353.jpg', '2575.jpg', '6126.jpg', '278.jpg', '5376.jpg', '4634.jpg', '12312.jpg', '10808.jpg', '2899.jpg', '158.jpg', '11858.jpg', '10029.jpg', '2511.jpg', '9719.jpg', '8171.jpg', '10706.jpg', '10337.jpg', '1257.jpg', '7542.jpg', '7360.jpg', '5999.jpg', '10778.jpg', '4082.jpg', '6972.jpg', '8856.jpg', '7732.jpg', '11562.jpg', '9921.jpg', '5317.jpg', '12456.jpg', '12412.jpg', '7973.jpg', '3709.jpg', '6106.jpg', '5825.jpg', '3564.jpg', '90.jpg', '7148.jpg', '9767.jpg', '3388.jpg', '1440.jpg', '4869.jpg', '1814.jpg', '10886.jpg', '8766.jpg', '2449.jpg', '9574.jpg', '2347.jpg', '8961.jpg', '1003.jpg', '3238.jpg', '6382.jpg', '735.jpg', '5958.jpg', '10201.jpg', '3814.jpg', '11835.jpg', '236.jpg', '9524.jpg', '8624.jpg', '11361.jpg', '2917.jpg', '6268.jpg', '4074.jpg', '8309.jpg', '9705.jpg', '11535.jpg', '345.jpg', '196.jpg', '8971.jpg', '5020.jpg', '3081.jpg', '4103.jpg', '4618.jpg', '11987.jpg', '10223.jpg', '9043.jpg', '6302.jpg', '4514.jpg', '2555.jpg', '6255.jpg', '25.jpg', '3228.jpg', '381.jpg', '4436.jpg', '1250.jpg', '8742.jpg', '10418.jpg', '9182.jpg', '4574.jpg', '829.jpg', '11041.jpg', '7118.jpg', '8662.jpg', '55.jpg', '8281.jpg', '7836.jpg', '2501.jpg', '4636.jpg', '6607.jpg', '10558.jpg', '845.jpg', '7346.jpg', '4322.jpg', '8814.jpg', '4792.jpg', '5273.jpg', '1022.jpg', '10368.jpg', '8883.jpg', '7457.jpg', '6684.jpg', '7397.jpg', '8659.jpg', '9800.jpg', '2314.jpg', '4269.jpg', '3159.jpg', '9293.jpg', '7436.jpg', '300.jpg', '11034.jpg', '1614.jpg', '4831.jpg', '2712.jpg', '7303.jpg', '1089.jpg', '7810.jpg', '762.jpg', '5651.jpg', '3047.jpg', '439.jpg', '2652.jpg', '2558.jpg', '2710.jpg', '9795.jpg', '7597.jpg', '10852.jpg', '9321.jpg', '2040.jpg', '10482.jpg', '8290.jpg', '7027.jpg', '164.jpg', '1923.jpg', '3696.jpg', '4260.jpg', '1421.jpg', '4651.jpg', '5737.jpg', '2602.jpg', '2526.jpg', '1777.jpg', '12127.jpg', '7847.jpg', '9664.jpg', '1589.jpg', '9678.jpg', '4758.jpg', '5140.jpg', '3379.jpg', '9601.jpg', '2059.jpg', '3092.jpg', '1375.jpg', '5251.jpg', '11964.jpg', '12065.jpg', '10389.jpg', '9345.jpg', '6054.jpg', '1344.jpg', '863.jpg', '663.jpg', '281.jpg', '4063.jpg', '8074.jpg', '3796.jpg', '11391.jpg', '3671.jpg', '9242.jpg', '4135.jpg', '3444.jpg', '852.jpg', '1051.jpg', '6080.jpg', '3098.jpg', '11841.jpg', '5601.jpg']\n",
      "['1204.jpg', '9532.jpg', '9935.jpg', '1642.jpg', '100.jpg', '2502.jpg', '1773.jpg', '5137.jpg', '11695.jpg', '4793.jpg', '11047.jpg', '12494.jpg', '9778.jpg', '12414.jpg', '2037.jpg', '8627.jpg', '5021.jpg', '6844.jpg', '877.jpg', '2231.jpg', '7521.jpg', '4447.jpg', '3229.jpg', '886.jpg', '6812.jpg', '11636.jpg', '1553.jpg', '7953.jpg', '2998.jpg', '6381.jpg', '8107.jpg', '9502.jpg', '4701.jpg', '2622.jpg', '8281.jpg', '1901.jpg', '371.jpg', '2372.jpg', '7417.jpg', '9359.jpg', '12085.jpg', '6910.jpg', '12459.jpg', '3689.jpg', '9938.jpg', '3023.jpg', '54.jpg', '2348.jpg', '2948.jpg', '4012.jpg', '3320.jpg', '7422.jpg', '4031.jpg', '1002.jpg', '8919.jpg', '2793.jpg', '348.jpg', '11380.jpg', '12072.jpg', '3558.jpg', '4926.jpg', '9271.jpg', '2175.jpg', '3086.jpg', '1472.jpg', '9004.jpg', '1987.jpg', '4993.jpg', '2959.jpg', '11283.jpg', '8741.jpg', '1666.jpg', '10874.jpg', '1837.jpg', '5245.jpg', '6010.jpg', '177.jpg', '6720.jpg', '3549.jpg', '10708.jpg', '11816.jpg', '11226.jpg', '701.jpg', '418.jpg', '5384.jpg', '1159.jpg', '3162.jpg', '10543.jpg', '10301.jpg', '8260.jpg', '513.jpg', '3608.jpg', '5844.jpg', '4332.jpg', '2924.jpg', '6338.jpg', '4949.jpg', '2349.jpg', '6196.jpg', '1597.jpg', '6932.jpg', '12460.jpg', '8088.jpg', '5412.jpg', '2646.jpg', '3331.jpg', '4371.jpg', '10002.jpg', '6816.jpg', '3817.jpg', '4565.jpg', '4281.jpg', '12341.jpg', '7452.jpg', '8801.jpg', '8572.jpg', '8976.jpg', '11555.jpg', '7231.jpg', '2335.jpg', '3247.jpg', '4164.jpg', '3806.jpg', '2293.jpg', '7356.jpg', '7396.jpg', '11972.jpg', '2855.jpg', '12461.jpg', '798.jpg', '6372.jpg', '9870.jpg', '4240.jpg', '11723.jpg', '8550.jpg', '4484.jpg', '4331.jpg', '7450.jpg', '10070.jpg', '893.jpg', '9125.jpg', '2089.jpg', '4314.jpg', '9988.jpg', '2608.jpg', '1538.jpg', '11178.jpg', '9950.jpg', '9411.jpg', '11916.jpg', '9092.jpg', '8917.jpg', '8573.jpg', '2955.jpg', '9302.jpg', '3212.jpg', '11542.jpg', '9033.jpg', '10597.jpg', '9085.jpg', '7155.jpg', '8405.jpg', '5171.jpg', '4788.jpg', '6866.jpg', '6602.jpg', '9468.jpg', '7316.jpg', '3967.jpg', '9154.jpg', '11721.jpg', '9632.jpg', '8420.jpg', '11952.jpg', '1944.jpg', '9177.jpg', '12194.jpg', '3926.jpg', '8984.jpg', '431.jpg', '4313.jpg', '9071.jpg', '3084.jpg', '10078.jpg', '2950.jpg', '2390.jpg', '6689.jpg', '3740.jpg', '1946.jpg', '8500.jpg', '9825.jpg', '2394.jpg', '7019.jpg', '9415.jpg', '5582.jpg', '7857.jpg', '10129.jpg', '12011.jpg', '9613.jpg', '11591.jpg', '1767.jpg', '10466.jpg', '8029.jpg', '2049.jpg', '4962.jpg', '7608.jpg', '7601.jpg', '9375.jpg', '6837.jpg', '6145.jpg', '11787.jpg', '3132.jpg', '9443.jpg', '5815.jpg', '4641.jpg', '8610.jpg', '679.jpg', '10187.jpg', '6252.jpg', '8001.jpg', '11125.jpg', '3836.jpg', '4428.jpg', '4857.jpg', '6393.jpg', '9331.jpg', '4263.jpg', '553.jpg', '1564.jpg', '3598.jpg', '6285.jpg', '8192.jpg', '7172.jpg', '5356.jpg', '4827.jpg', '1624.jpg', '10254.jpg', '3914.jpg', '7018.jpg', '10791.jpg', '4606.jpg', '907.jpg', '5746.jpg', '4930.jpg', '10619.jpg', '10215.jpg', '7272.jpg', '10797.jpg', '9585.jpg', '10857.jpg', '2392.jpg', '5605.jpg', '395.jpg', '708.jpg', '3486.jpg', '8724.jpg', '8545.jpg', '5218.jpg', '6765.jpg', '10743.jpg', '7941.jpg', '11169.jpg', '3843.jpg', '1213.jpg', '2283.jpg', '6933.jpg', '11529.jpg', '11275.jpg', '5001.jpg', '1374.jpg', '6635.jpg', '3468.jpg', '5351.jpg', '10992.jpg', '1011.jpg', '3921.jpg', '4929.jpg', '3613.jpg', '11296.jpg', '5996.jpg', '1096.jpg', '576.jpg', '1343.jpg', '4083.jpg', '6840.jpg', '12458.jpg', '11203.jpg', '3355.jpg', '5488.jpg', '10976.jpg', '3114.jpg', '2616.jpg', '6038.jpg', '7381.jpg', '66.jpg', '543.jpg', '10790.jpg', '6627.jpg', '3706.jpg', '9755.jpg', '4280.jpg', '7112.jpg', '11089.jpg', '6243.jpg', '5546.jpg', '11615.jpg', '5015.jpg', '11680.jpg', '523.jpg', '12294.jpg', '6424.jpg', '4840.jpg', '10595.jpg', '12189.jpg', '9291.jpg', '11270.jpg', '9329.jpg', '637.jpg', '10905.jpg', '5672.jpg', '3168.jpg', '6559.jpg', '11792.jpg', '8261.jpg', '8489.jpg', '380.jpg', '3223.jpg', '8247.jpg', '5994.jpg', '9221.jpg', '5358.jpg', '1194.jpg', '10181.jpg', '4601.jpg', '11365.jpg', '7569.jpg', '9653.jpg', '8901.jpg', '9262.jpg', '8512.jpg', '517.jpg', '10411.jpg', '2031.jpg', '955.jpg', '9283.jpg', '2157.jpg', '11300.jpg', '3504.jpg', '8161.jpg', '1074.jpg', '4126.jpg', '10816.jpg', '791.jpg', '717.jpg', '2332.jpg', '3518.jpg', '8566.jpg', '7943.jpg', '11995.jpg', '8546.jpg', '12390.jpg', '11998.jpg', '2747.jpg', '5743.jpg', '6408.jpg', '7880.jpg', '6505.jpg', '8695.jpg', '9207.jpg', '7960.jpg', '6043.jpg', '1406.jpg', '4690.jpg', '1423.jpg', '9059.jpg', '6305.jpg', '6013.jpg', '7480.jpg', '11241.jpg', '10372.jpg', '11356.jpg', '12069.jpg', '1102.jpg', '9760.jpg', '12164.jpg', '10376.jpg', '2692.jpg', '5091.jpg', '1986.jpg', '3235.jpg', '10257.jpg', '950.jpg', '6704.jpg', '12302.jpg', '7491.jpg', '7647.jpg', '3196.jpg', '5974.jpg', '6118.jpg', '7463.jpg', '12029.jpg', '8932.jpg', '2626.jpg', '336.jpg', '6770.jpg', '2233.jpg', '2455.jpg', '11386.jpg', '4241.jpg', '613.jpg', '12.jpg', '11179.jpg', '667.jpg', '1050.jpg', '3868.jpg', '5126.jpg', '11624.jpg', '865.jpg', '5269.jpg', '11236.jpg', '5420.jpg', '42.jpg', '4376.jpg', '7646.jpg', '7799.jpg', '5993.jpg', '11854.jpg', '1699.jpg', '1641.jpg', '5427.jpg', '4897.jpg', '3319.jpg', '4442.jpg', '9196.jpg', '12436.jpg', '6733.jpg', '11649.jpg', '8357.jpg', '4923.jpg', '7351.jpg', '12233.jpg', '10099.jpg', '9148.jpg', '12207.jpg', '1591.jpg', '38.jpg', '2484.jpg', '6034.jpg', '10231.jpg', '4523.jpg', '227.jpg', '7716.jpg', '7756.jpg', '10885.jpg', '10645.jpg', '6258.jpg', '2890.jpg', '9334.jpg', '4505.jpg', '11735.jpg', '7627.jpg', '4637.jpg', '4090.jpg', '11949.jpg', '9918.jpg', '2736.jpg', '11896.jpg', '9203.jpg', '11741.jpg', '3419.jpg', '2842.jpg', '2899.jpg', '5774.jpg', '11885.jpg', '10295.jpg', '7559.jpg', '9179.jpg', '7274.jpg', '3062.jpg', '3427.jpg', '10362.jpg', '11804.jpg', '8416.jpg', '2883.jpg', '11863.jpg', '5195.jpg', '8135.jpg', '6639.jpg', '600.jpg', '3345.jpg', '603.jpg', '11441.jpg', '11505.jpg', '10568.jpg', '5484.jpg', '3425.jpg', '7424.jpg', '392.jpg', '304.jpg', '1596.jpg', '10089.jpg', '3621.jpg', '3563.jpg', '11689.jpg', '2885.jpg', '8711.jpg', '2287.jpg', '7364.jpg', '9610.jpg', '9190.jpg', '9967.jpg', '8985.jpg', '5527.jpg', '3809.jpg', '12017.jpg', '10574.jpg', '5076.jpg', '467.jpg', '8981.jpg', '6676.jpg', '5850.jpg', '11292.jpg', '984.jpg', '368.jpg', '11717.jpg', '10317.jpg', '7588.jpg', '5967.jpg', '11214.jpg', '12032.jpg', '4511.jpg', '3240.jpg', '3019.jpg', '852.jpg', '7652.jpg', '2902.jpg', '12095.jpg', '6519.jpg', '1192.jpg', '12317.jpg', '7566.jpg', '9885.jpg', '7242.jpg', '6072.jpg', '9932.jpg', '4374.jpg', '11219.jpg', '6163.jpg', '1015.jpg', '9554.jpg', '11983.jpg', '8518.jpg', '2292.jpg', '4867.jpg', '3532.jpg', '7861.jpg', '9589.jpg', '2753.jpg', '8371.jpg', '9269.jpg', '410.jpg', '8471.jpg', '3932.jpg', '11150.jpg', '1533.jpg', '6927.jpg', '4661.jpg', '7769.jpg', '11411.jpg', '5799.jpg', '4480.jpg', '4540.jpg', '1350.jpg', '8069.jpg', '1161.jpg', '11315.jpg', '8930.jpg', '8943.jpg', '57.jpg', '9609.jpg', '10087.jpg', '220.jpg', '7253.jpg', '10858.jpg', '6085.jpg', '7032.jpg', '437.jpg', '5543.jpg', '9446.jpg', '2914.jpg', '2383.jpg', '3923.jpg', '5630.jpg', '1304.jpg', '8195.jpg', '2186.jpg', '8162.jpg', '1414.jpg', '8953.jpg', '11042.jpg', '7753.jpg', '11245.jpg', '3075.jpg', '7340.jpg', '6048.jpg', '4144.jpg', '3694.jpg', '4224.jpg', '10250.jpg', '3220.jpg', '4688.jpg', '5508.jpg', '6540.jpg', '9119.jpg', '10641.jpg', '8772.jpg', '10984.jpg', '4456.jpg', '4019.jpg', '1141.jpg', '7220.jpg', '6412.jpg', '6777.jpg', '2649.jpg', '5219.jpg', '10500.jpg', '331.jpg', '9479.jpg', '11200.jpg', '6303.jpg', '1595.jpg', '6883.jpg', '11674.jpg', '2270.jpg', '9576.jpg', '2775.jpg', '7278.jpg', '6759.jpg', '12278.jpg', '1187.jpg', '9311.jpg', '10908.jpg', '9401.jpg', '9693.jpg', '7914.jpg', '10290.jpg', '3751.jpg', '2290.jpg', '11997.jpg', '11986.jpg', '12380.jpg', '5331.jpg', '2396.jpg', '4821.jpg', '10293.jpg', '4066.jpg', '7131.jpg', '8707.jpg', '191.jpg', '9891.jpg', '7787.jpg', '8457.jpg', '8458.jpg', '8426.jpg', '5604.jpg', '9812.jpg', '7210.jpg', '9732.jpg', '9258.jpg', '1668.jpg', '8080.jpg', '197.jpg', '11656.jpg', '1605.jpg', '4018.jpg', '12159.jpg', '10452.jpg', '9859.jpg', '5615.jpg', '11878.jpg', '3491.jpg', '5720.jpg', '10773.jpg', '9377.jpg', '8446.jpg', '1501.jpg', '9182.jpg', '5063.jpg', '1001.jpg', '11694.jpg', '9696.jpg', '3131.jpg', '7476.jpg', '1969.jpg', '12349.jpg', '1855.jpg', '9315.jpg', '5891.jpg', '1150.jpg', '12300.jpg', '10247.jpg', '7944.jpg', '11687.jpg', '6411.jpg', '1243.jpg', '939.jpg', '5154.jpg', '11306.jpg', '2423.jpg', '11052.jpg', '11084.jpg', '11409.jpg', '6569.jpg', '10330.jpg', '8466.jpg', '5074.jpg', '4516.jpg', '2786.jpg', '5144.jpg', '9047.jpg', '7948.jpg', '9863.jpg', '11797.jpg', '6328.jpg', '9833.jpg', '4198.jpg', '4025.jpg', '6032.jpg', '8561.jpg', '5525.jpg', '8622.jpg', '12153.jpg', '11994.jpg', '5491.jpg', '9212.jpg', '12424.jpg', '178.jpg', '11158.jpg', '11610.jpg', '10461.jpg', '7852.jpg', '9980.jpg', '4060.jpg', '9927.jpg', '1891.jpg', '8301.jpg', '9250.jpg', '7532.jpg', '4823.jpg', '5297.jpg', '3471.jpg', '5030.jpg', '2082.jpg', '10665.jpg', '3069.jpg', '2463.jpg', '7418.jpg', '2008.jpg', '3798.jpg', '11843.jpg', '7656.jpg', '10717.jpg', '5889.jpg', '1873.jpg', '5306.jpg', '5240.jpg', '4179.jpg', '3485.jpg', '8224.jpg', '4530.jpg', '2461.jpg', '10462.jpg', '8276.jpg', '7662.jpg', '11118.jpg', '7169.jpg', '4611.jpg', '11907.jpg', '2758.jpg', '12232.jpg', '7229.jpg', '5865.jpg', '6649.jpg', '452.jpg', '7809.jpg', '7810.jpg', '4118.jpg', '5975.jpg', '7297.jpg', '10020.jpg', '668.jpg', '10973.jpg', '4186.jpg', '1091.jpg', '2387.jpg', '2353.jpg', '6136.jpg', '4346.jpg', '6548.jpg', '84.jpg', '10771.jpg', '11703.jpg', '9222.jpg', '3041.jpg', '9060.jpg', '8762.jpg', '7110.jpg', '541.jpg', '4337.jpg', '5701.jpg', '8243.jpg', '3054.jpg', '9243.jpg', '9928.jpg', '469.jpg', '4469.jpg', '11457.jpg', '5088.jpg', '2637.jpg', '9597.jpg', '1960.jpg', '5313.jpg', '4990.jpg', '969.jpg', '10971.jpg', '1174.jpg', '3748.jpg', '7963.jpg', '11206.jpg', '6788.jpg', '12143.jpg', '3400.jpg', '9922.jpg', '5868.jpg', '3027.jpg', '10126.jpg', '7350.jpg', '4173.jpg', '8524.jpg', '11313.jpg', '10241.jpg', '8353.jpg', '3007.jpg', '5287.jpg', '9300.jpg', '3087.jpg', '12098.jpg', '5981.jpg', '4365.jpg', '5976.jpg', '5040.jpg', '11213.jpg', '10040.jpg', '9483.jpg', '7250.jpg', '11559.jpg', '5978.jpg', '2308.jpg', '6345.jpg', '8217.jpg', '578.jpg', '193.jpg', '3259.jpg', '7824.jpg', '2558.jpg', '4961.jpg', '5080.jpg', '495.jpg', '2355.jpg', '3713.jpg', '1134.jpg', '7543.jpg', '4854.jpg', '501.jpg', '4951.jpg', '4277.jpg', '8142.jpg', '10629.jpg', '5962.jpg', '5692.jpg', '11842.jpg', '3928.jpg', '10133.jpg', '1125.jpg', '4551.jpg', '6226.jpg', '6592.jpg', '3571.jpg', '10851.jpg', '6246.jpg', '5013.jpg', '4571.jpg', '7969.jpg', '586.jpg', '11973.jpg', '1819.jpg', '570.jpg', '1449.jpg', '3039.jpg', '11479.jpg', '9079.jpg', '1952.jpg', '7005.jpg', '8126.jpg', '3530.jpg', '4142.jpg', '2893.jpg', '11229.jpg', '6807.jpg', '5838.jpg', '4114.jpg', '1839.jpg', '1068.jpg', '12433.jpg', '11102.jpg', '11279.jpg', '2851.jpg', '8773.jpg', '359.jpg', '2453.jpg', '2309.jpg', '5211.jpg', '12431.jpg', '8972.jpg', '455.jpg', '3187.jpg', '10189.jpg', '7651.jpg', '6514.jpg', '8934.jpg', '1534.jpg', '7913.jpg', '2214.jpg', '4052.jpg', '4982.jpg', '12285.jpg', '1608.jpg', '9304.jpg', '1312.jpg', '10742.jpg', '2926.jpg', '8076.jpg', '165.jpg', '8649.jpg', '2187.jpg', '3786.jpg', '1797.jpg', '5930.jpg', '7893.jpg', '5798.jpg', '2369.jpg', '10970.jpg', '6123.jpg', '728.jpg', '11147.jpg', '9077.jpg', '752.jpg', '23.jpg', '4394.jpg', '6939.jpg', '1543.jpg', '1185.jpg', '2343.jpg', '11875.jpg', '7888.jpg', '5385.jpg', '396.jpg', '5109.jpg', '5208.jpg', '10943.jpg', '12107.jpg', '4243.jpg', '3366.jpg', '8964.jpg', '1327.jpg', '3979.jpg', '1937.jpg', '5339.jpg', '9617.jpg', '10306.jpg', '383.jpg', '11137.jpg', '7474.jpg', '10197.jpg', '1126.jpg', '6197.jpg', '10605.jpg', '3393.jpg', '5104.jpg', '2565.jpg', '25.jpg', '2460.jpg', '6892.jpg', '7889.jpg', '10655.jpg', '12254.jpg', '1856.jpg', '10775.jpg', '1979.jpg', '8147.jpg', '5389.jpg', '9598.jpg', '1921.jpg', '3611.jpg', '8755.jpg', '704.jpg', '12002.jpg', '7458.jpg', '8868.jpg', '1777.jpg', '8160.jpg', '12329.jpg', '5756.jpg', '1206.jpg', '1342.jpg', '5555.jpg', '917.jpg', '6040.jpg', '6808.jpg', '3881.jpg', '6366.jpg', '11265.jpg', '258.jpg', '1136.jpg', '6158.jpg', '2401.jpg', '4359.jpg', '6058.jpg', '5190.jpg', '8640.jpg', '2288.jpg', '1036.jpg', '3772.jpg', '8436.jpg', '2312.jpg', '6551.jpg', '11175.jpg', '8593.jpg', '4176.jpg', '8811.jpg', '2981.jpg', '4319.jpg', '2636.jpg', '870.jpg', '589.jpg', '803.jpg', '3732.jpg', '312.jpg', '7120.jpg', '2302.jpg', '7082.jpg', '9172.jpg', '3719.jpg', '3870.jpg', '8131.jpg', '5877.jpg', '5904.jpg', '10472.jpg', '2275.jpg', '7312.jpg', '4298.jpg', '12023.jpg', '11456.jpg', '4360.jpg', '3541.jpg', '10560.jpg', '354.jpg', '429.jpg', '11760.jpg', '5532.jpg', '8615.jpg', '4622.jpg', '7589.jpg', '3993.jpg', '11139.jpg', '2162.jpg', '8342.jpg', '3629.jpg', '7516.jpg', '5629.jpg', '2968.jpg', '11667.jpg', '10722.jpg', '8098.jpg', '2990.jpg', '1961.jpg', '6709.jpg', '3042.jpg', '7048.jpg', '10407.jpg', '8915.jpg', '2771.jpg', '5732.jpg', '8346.jpg', '7771.jpg', '4593.jpg', '5028.jpg', '5153.jpg', '9126.jpg', '8988.jpg', '6293.jpg', '12296.jpg', '5323.jpg', '11583.jpg', '12206.jpg', '2583.jpg', '8528.jpg', '6552.jpg', '9926.jpg', '4157.jpg', '2135.jpg', '5387.jpg', '335.jpg', '9787.jpg', '9281.jpg', '8024.jpg', '8548.jpg', '5026.jpg', '7105.jpg', '2547.jpg', '11509.jpg', '5859.jpg', '5037.jpg', '2918.jpg', '6745.jpg', '1200.jpg', '12323.jpg', '726.jpg', '9719.jpg', '8208.jpg', '10919.jpg', '12184.jpg', '796.jpg', '7201.jpg', '3195.jpg', '4610.jpg', '6405.jpg', '5821.jpg', '3935.jpg', '6022.jpg', '7276.jpg', '4758.jpg', '252.jpg', '1479.jpg', '4015.jpg', '714.jpg', '3473.jpg', '5442.jpg', '1434.jpg', '300.jpg', '9165.jpg', '1331.jpg', '3964.jpg', '179.jpg', '3189.jpg', '11980.jpg', '8665.jpg', '5367.jpg', '11146.jpg', '5687.jpg', '768.jpg', '1578.jpg', '12240.jpg', '6028.jpg', '8540.jpg', '3280.jpg', '8703.jpg', '3440.jpg', '3028.jpg', '8480.jpg', '995.jpg', '12472.jpg', '10248.jpg', '1303.jpg', '10562.jpg', '3547.jpg', '8013.jpg', '7932.jpg', '2803.jpg', '3373.jpg', '2452.jpg', '4094.jpg', '1634.jpg', '2980.jpg', '6795.jpg', '1875.jpg', '10475.jpg', '1377.jpg', '1862.jpg', '3924.jpg', '698.jpg', '3664.jpg', '11891.jpg', '5203.jpg', '1646.jpg', '10518.jpg', '6522.jpg', '6230.jpg', '2181.jpg', '1353.jpg', '4366.jpg', '9127.jpg', '3759.jpg', '3614.jpg', '979.jpg', '8975.jpg', '3395.jpg', '8701.jpg', '8557.jpg', '486.jpg', '4158.jpg', '9379.jpg', '5322.jpg', '9346.jpg', '7222.jpg', '8273.jpg', '12031.jpg', '3808.jpg', '5752.jpg', '5201.jpg', '8799.jpg', '10460.jpg', '12346.jpg', '10329.jpg', '5602.jpg', '814.jpg', '7524.jpg', '3488.jpg', '128.jpg', '11212.jpg', '8118.jpg', '2306.jpg', '9729.jpg', '5669.jpg', '11745.jpg', '8982.jpg', '2494.jpg', '12167.jpg', '4210.jpg', '1895.jpg', '222.jpg', '5347.jpg', '4922.jpg', '9840.jpg', '9348.jpg', '9168.jpg', '5124.jpg', '3727.jpg', '4393.jpg', '8577.jpg']\n",
      "\n",
      "\n",
      "Original cat's directory has 12500 images\n",
      "Original dog's directory has 12500 images\n",
      "\n",
      "There are 11249 images of cats for training\n",
      "There are 11249 images of dogs for training\n",
      "There are 1250 images of cats for validation\n",
      "There are 1250 images of dogs for validation\n"
     ]
    }
   ],
   "source": [
    "# grader-required-cell\n",
    "\n",
    "# Test your split_data function\n",
    "\n",
    "# Define paths\n",
    "CAT_SOURCE_DIR = \"/tmp/PetImages/Cat/\"\n",
    "DOG_SOURCE_DIR = \"/tmp/PetImages/Dog/\"\n",
    "\n",
    "TRAINING_DIR = \"/tmp/cats-v-dogs/training/\"\n",
    "VALIDATION_DIR = \"/tmp/cats-v-dogs/validation/\"\n",
    "\n",
    "TRAINING_CATS_DIR = os.path.join(TRAINING_DIR, \"cats/\")\n",
    "VALIDATION_CATS_DIR = os.path.join(VALIDATION_DIR, \"cats/\")\n",
    "\n",
    "TRAINING_DOGS_DIR = os.path.join(TRAINING_DIR, \"dogs/\")\n",
    "VALIDATION_DOGS_DIR = os.path.join(VALIDATION_DIR, \"dogs/\")\n",
    "\n",
    "# Empty directories in case you run this cell multiple times\n",
    "if len(os.listdir(TRAINING_CATS_DIR)) > 0:\n",
    "  for file in os.scandir(TRAINING_CATS_DIR):\n",
    "    os.remove(file.path)\n",
    "if len(os.listdir(TRAINING_DOGS_DIR)) > 0:\n",
    "  for file in os.scandir(TRAINING_DOGS_DIR):\n",
    "    os.remove(file.path)\n",
    "if len(os.listdir(VALIDATION_CATS_DIR)) > 0:\n",
    "  for file in os.scandir(VALIDATION_CATS_DIR):\n",
    "    os.remove(file.path)\n",
    "if len(os.listdir(VALIDATION_DOGS_DIR)) > 0:\n",
    "  for file in os.scandir(VALIDATION_DOGS_DIR):\n",
    "    os.remove(file.path)\n",
    "\n",
    "# Define proportion of images used for training\n",
    "split_size = .9\n",
    "\n",
    "# Run the function\n",
    "# NOTE: Messages about zero length images should be printed out\n",
    "split_data(CAT_SOURCE_DIR, TRAINING_CATS_DIR, VALIDATION_CATS_DIR, split_size)\n",
    "split_data(DOG_SOURCE_DIR, TRAINING_DOGS_DIR, VALIDATION_DOGS_DIR, split_size)\n",
    "\n",
    "# Check that the number of images matches the expected output\n",
    "\n",
    "# Your function should perform copies rather than moving images so original directories should contain unchanged images\n",
    "print(f\"\\n\\nOriginal cat's directory has {len(os.listdir(CAT_SOURCE_DIR))} images\")\n",
    "print(f\"Original dog's directory has {len(os.listdir(DOG_SOURCE_DIR))} images\\n\")\n",
    "\n",
    "# Training and validation splits\n",
    "print(f\"There are {len(os.listdir(TRAINING_CATS_DIR))} images of cats for training\")\n",
    "print(f\"There are {len(os.listdir(TRAINING_DOGS_DIR))} images of dogs for training\")\n",
    "print(f\"There are {len(os.listdir(VALIDATION_CATS_DIR))} images of cats for validation\")\n",
    "print(f\"There are {len(os.listdir(VALIDATION_DOGS_DIR))} images of dogs for validation\")\n",
    "\n"
   ]
  },
  {
   "cell_type": "markdown",
   "id": "dbb2aedc",
   "metadata": {
    "id": "dbb2aedc"
   },
   "source": [
    "**Expected Output:**\n",
    "\n",
    "```\n",
    "666.jpg is zero length, so ignoring.\n",
    "11702.jpg is zero length, so ignoring.\n",
    "\n",
    "\n",
    "Original cat's directory has 12500 images\n",
    "Original dog's directory has 12500 images\n",
    "\n",
    "There are 11249 images of cats for training\n",
    "There are 11249 images of dogs for training\n",
    "There are 1250 images of cats for validation\n",
    "There are 1250 images of dogs for validation\n",
    "```"
   ]
  },
  {
   "cell_type": "markdown",
   "id": "32a30ba6",
   "metadata": {
    "id": "32a30ba6"
   },
   "source": [
    "Now that you have successfully organized the data in a way that can be easily fed to Keras' `ImageDataGenerator`, it is time for you to code the generators that will yield batches of images, both for training and validation. For this, complete the `train_val_generators` function below.\n",
    "\n",
    "Something important to note is that the images in this dataset come in a variety of resolutions. Luckily, the `flow_from_directory` method allows you to standarize this by defining a tuple called `target_size` that will be used to convert each image to this target resolution. **For this exercise, use a `target_size` of (150, 150)**.\n",
    "\n",
    "**Hint:**\n",
    "\n",
    "Don't use data augmentation by setting extra parameters when you instantiate the `ImageDataGenerator` class. This will make the training of your model to take longer to reach the necessary accuracy threshold to pass this assignment and this topic will be covered in the next week."
   ]
  },
  {
   "cell_type": "code",
   "execution_count": 11,
   "id": "24714cb2",
   "metadata": {
    "cellView": "code",
    "id": "24714cb2",
    "tags": [
     "graded"
    ]
   },
   "outputs": [],
   "source": [
    "# grader-required-cell\n",
    "\n",
    "# GRADED FUNCTION: train_val_generators\n",
    "def train_val_generators(TRAINING_DIR, VALIDATION_DIR):\n",
    "  \"\"\"\n",
    "  Creates the training and validation data generators\n",
    "\n",
    "  Args:\n",
    "    TRAINING_DIR (string): directory path containing the training images\n",
    "    VALIDATION_DIR (string): directory path containing the testing/validation images\n",
    "\n",
    "  Returns:\n",
    "    train_generator, validation_generator - tuple containing the generators\n",
    "  \"\"\"\n",
    "  ### START CODE HERE\n",
    "\n",
    "  # Instantiate the ImageDataGenerator class (don't forget to set the rescale argument)\n",
    "  train_datagen = ImageDataGenerator(rescale=1/255)\n",
    "\n",
    "  # Pass in the appropriate arguments to the flow_from_directory method\n",
    "  train_generator = train_datagen.flow_from_directory(directory=TRAINING_DIR,\n",
    "                                                      batch_size=20,\n",
    "                                                      class_mode=\"binary\",\n",
    "                                                      target_size=(150, 150))\n",
    "\n",
    "  # Instantiate the ImageDataGenerator class (don't forget to set the rescale argument)\n",
    "  validation_datagen = ImageDataGenerator(rescale=1/255)\n",
    "\n",
    "  # Pass in the appropriate arguments to the flow_from_directory method\n",
    "  validation_generator = validation_datagen.flow_from_directory(directory=VALIDATION_DIR,\n",
    "                                                                batch_size=20,\n",
    "                                                                class_mode=\"binary\",\n",
    "                                                                target_size=(150, 150))\n",
    "  ### END CODE HERE\n",
    "  return train_generator, validation_generator"
   ]
  },
  {
   "cell_type": "code",
   "execution_count": 12,
   "id": "0a13c894",
   "metadata": {
    "colab": {
     "base_uri": "https://localhost:8080/"
    },
    "id": "0a13c894",
    "outputId": "4d4addc8-2825-4bf6-ee42-f8beebdd3c02",
    "tags": [
     "graded"
    ]
   },
   "outputs": [
    {
     "name": "stdout",
     "output_type": "stream",
     "text": [
      "Found 22498 images belonging to 2 classes.\n",
      "Found 2500 images belonging to 2 classes.\n"
     ]
    }
   ],
   "source": [
    "# grader-required-cell\n",
    "\n",
    "# Test your generators\n",
    "train_generator, validation_generator = train_val_generators(TRAINING_DIR, VALIDATION_DIR)"
   ]
  },
  {
   "cell_type": "markdown",
   "id": "2992173c",
   "metadata": {
    "id": "2992173c"
   },
   "source": [
    "**Expected Output:**\n",
    "\n",
    "```\n",
    "Found 22498 images belonging to 2 classes.\n",
    "Found 2500 images belonging to 2 classes.\n",
    "```\n"
   ]
  },
  {
   "cell_type": "markdown",
   "id": "4b01ac22",
   "metadata": {
    "id": "4b01ac22"
   },
   "source": [
    "One last step before training is to define the architecture of the model that will be trained.\n",
    "\n",
    "Complete the `create_model` function below which should return a Keras' `Sequential` model.\n",
    "\n",
    "Aside from defining the architecture of the model, you should also compile it so make sure to use a `loss` function that is compatible with the `class_mode` you defined in the previous exercise, which should also be compatible with the output of your network. You can tell if they aren't compatible if you get an error during training.\n",
    "\n",
    "**Note that you should use at least 3 convolution layers to achieve the desired performance.**"
   ]
  },
  {
   "cell_type": "code",
   "execution_count": 33,
   "id": "2141d195",
   "metadata": {
    "cellView": "code",
    "id": "2141d195",
    "lines_to_next_cell": 2,
    "tags": [
     "graded"
    ]
   },
   "outputs": [],
   "source": [
    "# grader-required-cell\n",
    "\n",
    "# GRADED FUNCTION: create_model\n",
    "def create_model():\n",
    "  # DEFINE A KERAS MODEL TO CLASSIFY CATS V DOGS\n",
    "  # USE AT LEAST 3 CONVOLUTION LAYERS\n",
    "  from tensorflow.keras.optimizers import Adam\n",
    "\n",
    "  ### START CODE HERE\n",
    "\n",
    "  model = tf.keras.models.Sequential([\n",
    "      tf.keras.layers.Conv2D(16, (3,3), activation='relu', input_shape=(150,150,3)),\n",
    "      tf.keras.layers.MaxPooling2D(2,2),\n",
    "      tf.keras.layers.Conv2D(32, (3,3), activation='relu'),\n",
    "      tf.keras.layers.MaxPooling2D(2,2),\n",
    "      tf.keras.layers.Conv2D(64, (3,3), activation='relu'),\n",
    "      tf.keras.layers.MaxPooling2D(2,2),\n",
    "      tf.keras.layers.Conv2D(64, (3,3), activation='relu'),\n",
    "      tf.keras.layers.MaxPooling2D(2,2),\n",
    "      tf.keras.layers.Conv2D(64, (3,3), activation='relu'),\n",
    "      tf.keras.layers.MaxPooling2D(2,2),\n",
    "      tf.keras.layers.Flatten(),\n",
    "      tf.keras.layers.Dense(150, activation='relu'),\n",
    "      tf.keras.layers.Dense(1, activation='sigmoid'),\n",
    "  ])\n",
    "\n",
    "\n",
    "  model.compile(optimizer=Adam(learning_rate=0.001),\n",
    "                loss=\"binary_crossentropy\",\n",
    "                metrics=['accuracy'])\n",
    "\n",
    "  ### END CODE HERE\n",
    "\n",
    "  return model"
   ]
  },
  {
   "cell_type": "markdown",
   "id": "5fe2ed9f",
   "metadata": {
    "id": "5fe2ed9f"
   },
   "source": [
    "Now it is time to train your model!\n",
    "\n",
    "**Note:** You can ignore the `UserWarning: Possibly corrupt EXIF data.` warnings."
   ]
  },
  {
   "cell_type": "code",
   "execution_count": 34,
   "id": "87cbef80",
   "metadata": {
    "colab": {
     "base_uri": "https://localhost:8080/"
    },
    "id": "87cbef80",
    "outputId": "5db353ec-cc07-4291-e902-1bef936f02a7",
    "tags": []
   },
   "outputs": [
    {
     "name": "stdout",
     "output_type": "stream",
     "text": [
      "Epoch 1/15\n",
      "1125/1125 [==============================] - 471s 410ms/step - loss: 0.6831 - accuracy: 0.5430 - val_loss: 0.6659 - val_accuracy: 0.5808\n",
      "Epoch 2/15\n",
      "1125/1125 [==============================] - 462s 411ms/step - loss: 0.5862 - accuracy: 0.6912 - val_loss: 0.5048 - val_accuracy: 0.7496\n",
      "Epoch 3/15\n",
      "1125/1125 [==============================] - 461s 410ms/step - loss: 0.4452 - accuracy: 0.7925 - val_loss: 0.4181 - val_accuracy: 0.8000\n",
      "Epoch 4/15\n",
      "1125/1125 [==============================] - 452s 402ms/step - loss: 0.3463 - accuracy: 0.8485 - val_loss: 0.3299 - val_accuracy: 0.8620\n",
      "Epoch 5/15\n",
      "1125/1125 [==============================] - 459s 408ms/step - loss: 0.2886 - accuracy: 0.8755 - val_loss: 0.2879 - val_accuracy: 0.8796\n",
      "Epoch 6/15\n",
      "1125/1125 [==============================] - 456s 405ms/step - loss: 0.2504 - accuracy: 0.8938 - val_loss: 0.2642 - val_accuracy: 0.8952\n",
      "Epoch 7/15\n",
      "1125/1125 [==============================] - 452s 402ms/step - loss: 0.2159 - accuracy: 0.9098 - val_loss: 0.2732 - val_accuracy: 0.8888\n",
      "Epoch 8/15\n",
      "1125/1125 [==============================] - 464s 413ms/step - loss: 0.1911 - accuracy: 0.9209 - val_loss: 0.3296 - val_accuracy: 0.8672\n",
      "Epoch 9/15\n",
      "1125/1125 [==============================] - 457s 406ms/step - loss: 0.1682 - accuracy: 0.9289 - val_loss: 0.2623 - val_accuracy: 0.8956\n",
      "Epoch 10/15\n",
      "1125/1125 [==============================] - 453s 403ms/step - loss: 0.1441 - accuracy: 0.9405 - val_loss: 0.2858 - val_accuracy: 0.8920\n",
      "Epoch 11/15\n",
      "1125/1125 [==============================] - 451s 401ms/step - loss: 0.1318 - accuracy: 0.9464 - val_loss: 0.2836 - val_accuracy: 0.8848\n",
      "Epoch 12/15\n",
      "1125/1125 [==============================] - 447s 397ms/step - loss: 0.1169 - accuracy: 0.9521 - val_loss: 0.2908 - val_accuracy: 0.9044\n"
     ]
    }
   ],
   "source": [
    "# Get the untrained model\n",
    "model = create_model()\n",
    "model_callback = myCallback()\n",
    "# Train the model\n",
    "# Note that this may take some time.\n",
    "history = model.fit(train_generator,\n",
    "                    epochs=15,\n",
    "                    verbose=1,\n",
    "                    validation_data=validation_generator,\n",
    "                    callbacks=[model_callback])"
   ]
  },
  {
   "cell_type": "markdown",
   "id": "80ccc14c",
   "metadata": {
    "id": "80ccc14c"
   },
   "source": [
    "Once training has finished, you can run the following cell to check the training and validation accuracy achieved at the end of each epoch.\n",
    "\n",
    "**To pass this assignment, your model should achieve a training accuracy of at least 95% and a validation accuracy of at least 80%**. If your model didn't achieve these thresholds, try training again with a different model architecture and remember to use at least 3 convolutional layers."
   ]
  },
  {
   "cell_type": "code",
   "execution_count": 36,
   "id": "32146607",
   "metadata": {
    "colab": {
     "base_uri": "https://localhost:8080/",
     "height": 882
    },
    "id": "32146607",
    "outputId": "332cf3dc-241d-402d-e248-aa1b4abbb638",
    "tags": []
   },
   "outputs": [
    {
     "data": {
      "image/png": "[encoded data removed]",
      "text/plain": [
       "<Figure size 640x480 with 1 Axes>"
      ]
     },
     "metadata": {},
     "output_type": "display_data"
    },
    {
     "name": "stdout",
     "output_type": "stream",
     "text": [
      "\n"
     ]
    },
    {
     "data": {
      "image/png": "[encoded data removed]",
      "text/plain": [
       "<Figure size 640x480 with 1 Axes>"
      ]
     },
     "metadata": {},
     "output_type": "display_data"
    }
   ],
   "source": [
    "#-----------------------------------------------------------\n",
    "# Retrieve a list of list results on training and test data\n",
    "# sets for each training epoch\n",
    "#-----------------------------------------------------------\n",
    "acc=history.history['accuracy']\n",
    "val_acc=history.history['val_accuracy']\n",
    "loss=history.history['loss']\n",
    "val_loss=history.history['val_loss']\n",
    "\n",
    "epochs=range(len(acc)) # Get number of epochs\n",
    "\n",
    "#------------------------------------------------\n",
    "# Plot training and validation accuracy per epoch\n",
    "#------------------------------------------------\n",
    "plt.plot(epochs, acc, 'r', \"Training Accuracy\")\n",
    "plt.plot(epochs, val_acc, 'b', \"Validation Accuracy\")\n",
    "plt.title('Training and validation accuracy')\n",
    "plt.show()\n",
    "print(\"\")\n",
    "\n",
    "#------------------------------------------------\n",
    "# Plot training and validation loss per epoch\n",
    "#------------------------------------------------\n",
    "plt.plot(epochs, loss, 'r', \"Training Loss\")\n",
    "plt.plot(epochs, val_loss, 'b', \"Validation Loss\")\n",
    "plt.show()"
   ]
  },
  {
   "cell_type": "markdown",
   "id": "3288957c",
   "metadata": {
    "id": "3288957c"
   },
   "source": [
    "You will probably encounter that the model is overfitting, which means that it is doing a great job at classifying the images in the training set but struggles with new data. This is perfectly fine and you will learn how to mitigate this issue in the upcoming week.\n",
    "\n",
    "Before downloading this notebook and closing the assignment, be sure to also download the `history.pkl` file which contains the information of the training history of your model. You can download this file by running the cell below:"
   ]
  },
  {
   "cell_type": "code",
   "execution_count": 37,
   "id": "a724b784",
   "metadata": {
    "colab": {
     "base_uri": "https://localhost:8080/",
     "height": 17
    },
    "id": "a724b784",
    "outputId": "c4d8c4d1-5e2e-4a2f-a10c-86fa74bd1ba6",
    "tags": []
   },
   "outputs": [
    {
     "data": {
      "application/javascript": [
       "\n",
       "    async function download(id, filename, size) {\n",
       "      if (!google.colab.kernel.accessAllowed) {\n",
       "        return;\n",
       "      }\n",
       "      const div = document.createElement('div');\n",
       "      const label = document.createElement('label');\n",
       "      label.textContent = `Downloading \"${filename}\": `;\n",
       "      div.appendChild(label);\n",
       "      const progress = document.createElement('progress');\n",
       "      progress.max = size;\n",
       "      div.appendChild(progress);\n",
       "      document.body.appendChild(div);\n",
       "\n",
       "      const buffers = [];\n",
       "      let downloaded = 0;\n",
       "\n",
       "      const channel = await google.colab.kernel.comms.open(id);\n",
       "      // Send a message to notify the kernel that we're ready.\n",
       "      channel.send({})\n",
       "\n",
       "      for await (const message of channel.messages) {\n",
       "        // Send a message to notify the kernel that we're ready.\n",
       "        channel.send({})\n",
       "        if (message.buffers) {\n",
       "          for (const buffer of message.buffers) {\n",
       "            buffers.push(buffer);\n",
       "            downloaded += buffer.byteLength;\n",
       "            progress.value = downloaded;\n",
       "          }\n",
       "        }\n",
       "      }\n",
       "      const blob = new Blob(buffers, {type: 'application/binary'});\n",
       "      const a = document.createElement('a');\n",
       "      a.href = window.URL.createObjectURL(blob);\n",
       "      a.download = filename;\n",
       "      div.appendChild(a);\n",
       "      a.click();\n",
       "      div.remove();\n",
       "    }\n",
       "  "
      ],
      "text/plain": [
       "<IPython.core.display.Javascript object>"
      ]
     },
     "metadata": {},
     "output_type": "display_data"
    },
    {
     "data": {
      "application/javascript": [
       "download(\"download_339b64c0-d091-4a77-8853-c1c540f35838\", \"history.pkl\", 508)"
      ],
      "text/plain": [
       "<IPython.core.display.Javascript object>"
      ]
     },
     "metadata": {},
     "output_type": "display_data"
    }
   ],
   "source": [
    "def download_history():\n",
    "  import pickle\n",
    "  from google.colab import files\n",
    "\n",
    "  with open('history.pkl', 'wb') as f:\n",
    "    pickle.dump(history.history, f)\n",
    "\n",
    "  files.download('history.pkl')\n",
    "\n",
    "download_history()"
   ]
  },
  {
   "cell_type": "markdown",
   "id": "f5cc8c73",
   "metadata": {
    "id": "f5cc8c73"
   },
   "source": [
    "## Download your notebook for grading\n",
    "\n",
    "Along with the `history.pkl` file, you will also need to submit your solution notebook for grading. The following code cells will check if this notebook's grader metadata (i.e. hidden data in the notebook needed for grading) is not modified by your workspace. This will ensure that the autograder can evaluate your code properly. Depending on its output, you will either:\n",
    "\n",
    "* *if the metadata is intact*: Download the current notebook. Click on the File tab on the upper left corner of the screen then click on `Download -> Download .ipynb.` You can name it anything you want as long as it is a valid `.ipynb` (jupyter notebook) file.\n",
    "<br>\n",
    "\n",
    "* *if the metadata is missing*: A new notebook with your solutions will be created on this Colab workspace. It should be downloaded automatically and you can submit that to the grader."
   ]
  },
  {
   "cell_type": "code",
   "execution_count": 38,
   "id": "b0b94f9f",
   "metadata": {
    "colab": {
     "base_uri": "https://localhost:8080/"
    },
    "id": "b0b94f9f",
    "outputId": "8e2a57e3-42cc-4ff5-aa21-a14d3a94deaf"
   },
   "outputs": [
    {
     "name": "stdout",
     "output_type": "stream",
     "text": [
      "--2024-04-24 17:06:41--  https://storage.googleapis.com/tensorflow-1-public/colab_metadata_checker.py\n",
      "Resolving storage.googleapis.com (storage.googleapis.com)... 173.194.202.207, 173.194.203.207, 74.125.199.207, ...\n",
      "Connecting to storage.googleapis.com (storage.googleapis.com)|173.194.202.207|:443... connected.\n",
      "HTTP request sent, awaiting response... 200 OK\n",
      "Length: 1997 (2.0K) [text/x-python-script]\n",
      "Saving to: ‘colab_metadata_checker.py’\n",
      "\n",
      "\r",
      "          colab_met   0%[                    ]       0  --.-KB/s               \r",
      "colab_metadata_chec 100%[===================>]   1.95K  --.-KB/s    in 0s      \n",
      "\n",
      "2024-04-24 17:06:41 (19.7 MB/s) - ‘colab_metadata_checker.py’ saved [1997/1997]\n",
      "\n"
     ]
    }
   ],
   "source": [
    "# Download metadata checker\n",
    "!wget -nc https://storage.googleapis.com/tensorflow-1-public/colab_metadata_checker.py"
   ]
  },
  {
   "cell_type": "code",
   "execution_count": 39,
   "id": "e90ed34a",
   "metadata": {
    "colab": {
     "base_uri": "https://localhost:8080/"
    },
    "id": "e90ed34a",
    "outputId": "c4918a60-a431-4b4c-d22f-39c0508d00b8"
   },
   "outputs": [
    {
     "name": "stdout",
     "output_type": "stream",
     "text": [
      "Grader metadata detected! You can download this notebook by clicking `File > Download > Download as .ipynb` and submit it to the grader!\n"
     ]
    }
   ],
   "source": [
    "import colab_metadata_checker\n",
    "\n",
    "# Please see the output of this cell to see which file you need to submit to the grader\n",
    "colab_metadata_checker.run('C2W1_Assignment_fixed.ipynb')"
   ]
  },
  {
   "cell_type": "markdown",
   "id": "24c4d4df",
   "metadata": {
    "id": "24c4d4df"
   },
   "source": [
    "**Please disregard the following note if the notebook metadata is detected**\n",
    "\n",
    "_Note: Just in case the download fails for the second point above, you can also do these steps:_\n",
    "* _Click the Folder icon on the left side of this screen to open the File Manager._\n",
    "* _Click the Folder Refresh icon in the File Manager to see the latest files in the workspace. You should see a file ending with a `_fixed.ipynb`._\n",
    "* _Right-click on that file to save locally and submit it to the grader._"
   ]
  },
  {
   "cell_type": "markdown",
   "id": "e8787d3a",
   "metadata": {
    "id": "e8787d3a"
   },
   "source": [
    "**Congratulations on finishing this week's assignment!**\n",
    "\n",
    "You have successfully implemented a convolutional neural network that classifies images of cats and dogs, along with the helper functions needed to pre-process the images!\n",
    "\n",
    "**Keep it up!**"
   ]
  }
 ],
 "metadata": {
  "accelerator": "GPU",
  "colab": {
   "gpuType": "T4",
   "provenance": []
  },
  "kernelspec": {
   "display_name": "Python 3 (ipykernel)",
   "language": "python",
   "name": "python3"
  },
  "language_info": {
   "codemirror_mode": {
    "name": "ipython",
    "version": 3
   },
   "file_extension": ".py",
   "mimetype": "text/x-python",
   "name": "python",
   "nbconvert_exporter": "python",
   "pygments_lexer": "ipython3",
   "version": "3.9.18"
  }
 },
 "nbformat": 4,
 "nbformat_minor": 5
}
