{
  "nbformat": 4,
  "nbformat_minor": 0,
  "metadata": {
    "colab": {
      "provenance": [],
      "authorship_tag": "ABX9TyMq25FNFch9VJZKzzy8+mtk",
      "include_colab_link": true
    },
    "kernelspec": {
      "name": "python3",
      "display_name": "Python 3"
    },
    "language_info": {
      "name": "python"
    }
  },
  "cells": [
    {
      "cell_type": "markdown",
      "metadata": {
        "id": "view-in-github",
        "colab_type": "text"
      },
      "source": [
        "<a href=\"https://colab.research.google.com/github/rvargas42/TensorFlow_DeepLearningAI_Course/blob/main/C1/C1_W4_ConvNets_Preprocessing_Batches_Validation.ipynb\" target=\"_parent\"><img src=\"https://colab.research.google.com/assets/colab-badge.svg\" alt=\"Open In Colab\"/></a>"
      ]
    },
    {
      "cell_type": "markdown",
      "source": [
        "# Convolutional Nets with real world case\n",
        "\n",
        "\n",
        "> Image Data Generator: you point it at a directory and it will generate the images in subdirectories into training and testing folders.\n",
        "\n"
      ],
      "metadata": {
        "id": "mCATjSv8hJIf"
      }
    },
    {
      "cell_type": "code",
      "source": [
        "!wget https://storage.googleapis.com/tensorflow-1-public/course2/week3/horse-or-human.zip\n",
        "\n",
        "!wget https://storage.googleapis.com/tensorflow-1-public/course2/week3/validation-horse-or-human.zip"
      ],
      "metadata": {
        "colab": {
          "base_uri": "https://localhost:8080/"
        },
        "id": "cLHh2K28kMUx",
        "outputId": "dfec7295-98e1-46a2-8aa0-43728ac9692b"
      },
      "execution_count": 18,
      "outputs": [
        {
          "output_type": "stream",
          "name": "stdout",
          "text": [
            "--2024-03-07 11:26:25--  https://storage.googleapis.com/tensorflow-1-public/course2/week3/horse-or-human.zip\n",
            "Resolving storage.googleapis.com (storage.googleapis.com)... 172.253.115.207, 172.253.122.207, 172.253.63.207, ...\n",
            "Connecting to storage.googleapis.com (storage.googleapis.com)|172.253.115.207|:443... connected.\n",
            "HTTP request sent, awaiting response... 200 OK\n",
            "Length: 149574867 (143M) [application/zip]\n",
            "Saving to: ‘horse-or-human.zip.1’\n",
            "\n",
            "horse-or-human.zip. 100%[===================>] 142.65M   183MB/s    in 0.8s    \n",
            "\n",
            "2024-03-07 11:26:25 (183 MB/s) - ‘horse-or-human.zip.1’ saved [149574867/149574867]\n",
            "\n",
            "--2024-03-07 11:26:25--  https://storage.googleapis.com/tensorflow-1-public/course2/week3/validation-horse-or-human.zip\n",
            "Resolving storage.googleapis.com (storage.googleapis.com)... 172.253.115.207, 172.253.122.207, 172.253.63.207, ...\n",
            "Connecting to storage.googleapis.com (storage.googleapis.com)|172.253.115.207|:443... connected.\n",
            "HTTP request sent, awaiting response... 200 OK\n",
            "Length: 11480187 (11M) [application/zip]\n",
            "Saving to: ‘validation-horse-or-human.zip’\n",
            "\n",
            "validation-horse-or 100%[===================>]  10.95M  --.-KB/s    in 0.1s    \n",
            "\n",
            "2024-03-07 11:26:26 (94.8 MB/s) - ‘validation-horse-or-human.zip’ saved [11480187/11480187]\n",
            "\n"
          ]
        }
      ]
    },
    {
      "cell_type": "code",
      "source": [
        "import zipfile\n",
        "\n",
        "# Unzip the dataset\n",
        "local_zip = './horse-or-human.zip'\n",
        "zip_ref = zipfile.ZipFile(local_zip, 'r')\n",
        "zip_ref.extractall('./horse-or-human')\n",
        "zip_ref.close()\n",
        "\n",
        "local_zip = './validation-horse-or-human.zip'\n",
        "zip_ref = zipfile.ZipFile(local_zip, 'r')\n",
        "zip_ref.extractall('./validation-horse-or-human')\n",
        "zip_ref.close()"
      ],
      "metadata": {
        "id": "wgl3m4V8kXxi"
      },
      "execution_count": 24,
      "outputs": []
    },
    {
      "cell_type": "code",
      "execution_count": 25,
      "metadata": {
        "colab": {
          "base_uri": "https://localhost:8080/"
        },
        "id": "qXydg0_6f3i2",
        "outputId": "e15b84a1-0dbd-4c13-88da-fdfc8afec99a"
      },
      "outputs": [
        {
          "output_type": "stream",
          "name": "stdout",
          "text": [
            "2.15.0\n"
          ]
        }
      ],
      "source": [
        "import tensorflow as tf\n",
        "from tensorflow import keras\n",
        "from tensorflow.keras.preprocessing.image import ImageDataGenerator\n",
        "\n",
        "\n",
        "print(tf.__version__)"
      ]
    },
    {
      "cell_type": "markdown",
      "source": [
        "## 1. Image Generator"
      ],
      "metadata": {
        "id": "-6RVjzzCh3sx"
      }
    },
    {
      "cell_type": "code",
      "source": [
        "import os\n",
        "\n",
        "# Directory with our training horse pictures\n",
        "train_horse_dir = os.path.join('./horse-or-human/horses')\n",
        "\n",
        "# Directory with our training human pictures\n",
        "train_human_dir = os.path.join('./horse-or-human/humans')\n",
        "\n",
        "#Directory with validation for horses\n",
        "validation_horse_dir = os.path.join('./validation-horse-human/horses')\n",
        "\n",
        "#Directory with validation for humans\n",
        "validation_horse_dir = os.path.join('./validation-horse-human/humans')"
      ],
      "metadata": {
        "id": "B5rVSktJkgQ_"
      },
      "execution_count": 26,
      "outputs": []
    },
    {
      "cell_type": "code",
      "source": [
        "train_dir = \"./horse-or-human\"\n",
        "train_data_generator = ImageDataGenerator(rescale=1./255)\n",
        "train_generator = train_data_generator.flow_from_directory(\n",
        "    train_dir,\n",
        "    target_size=(300,300), #this is the size at which the images are resized\n",
        "    batch_size=128, #this is the number of images processed\n",
        "    class_mode='binary' #as we are building a binary classifier\n",
        ")\n",
        "\n",
        "val_dir = \"./validation-horse-or-human\"\n",
        "val_data_generator = ImageDataGenerator(rescale=(1./255))\n",
        "val_generator = val_data_generator.flow_from_directory(\n",
        "    val_dir,\n",
        "    target_size=(300,300),\n",
        "    batch_size=32,\n",
        "    class_mode='binary'\n",
        ")"
      ],
      "metadata": {
        "colab": {
          "base_uri": "https://localhost:8080/"
        },
        "id": "xJXthkQfhIZ4",
        "outputId": "ef83f1df-b616-4c76-b993-62e65fff3f78"
      },
      "execution_count": 30,
      "outputs": [
        {
          "output_type": "stream",
          "name": "stdout",
          "text": [
            "Found 1283 images belonging to 2 classes.\n",
            "Found 256 images belonging to 2 classes.\n"
          ]
        }
      ]
    },
    {
      "cell_type": "markdown",
      "source": [
        "## 2. Designing the Model"
      ],
      "metadata": {
        "id": "vs9Bwwd9jXfK"
      }
    },
    {
      "cell_type": "code",
      "source": [
        "model = tf.keras.models.Sequential(\n",
        "    [\n",
        "        tf.keras.layers.Conv2D(16, (3,3), activation='relu', input_shape=(300, 300, 3)),\n",
        "        tf.keras.layers.MaxPooling2D(2, 2),\n",
        "        # The second convolution\n",
        "        tf.keras.layers.Conv2D(32, (3,3), activation='relu'),\n",
        "        tf.keras.layers.MaxPooling2D(2,2),\n",
        "        # The third convolution\n",
        "        tf.keras.layers.Conv2D(64, (3,3), activation='relu'),\n",
        "        tf.keras.layers.MaxPooling2D(2,2),\n",
        "        # The fourth convolution\n",
        "        tf.keras.layers.Conv2D(64, (3,3), activation='relu'),\n",
        "        tf.keras.layers.MaxPooling2D(2,2),\n",
        "        # The fifth convolution\n",
        "        tf.keras.layers.Conv2D(64, (3,3), activation='relu'),\n",
        "        tf.keras.layers.MaxPooling2D(2,2),\n",
        "        keras.layers.Flatten(),\n",
        "        keras.layers.Dense(512,activation='relu'),\n",
        "        keras.layers.Dense(1, activation='sigmoid') #sigmoid activation function as it is a binary classifier\n",
        "    ]\n",
        ")"
      ],
      "metadata": {
        "id": "z_KhWyjejQV8"
      },
      "execution_count": 34,
      "outputs": []
    },
    {
      "cell_type": "code",
      "source": [
        "model.summary()"
      ],
      "metadata": {
        "colab": {
          "base_uri": "https://localhost:8080/"
        },
        "id": "CpHU_uTYq6Ah",
        "outputId": "8b8ab473-4a9c-4431-89c7-991b522e9119"
      },
      "execution_count": 35,
      "outputs": [
        {
          "output_type": "stream",
          "name": "stdout",
          "text": [
            "Model: \"sequential_3\"\n",
            "_________________________________________________________________\n",
            " Layer (type)                Output Shape              Param #   \n",
            "=================================================================\n",
            " conv2d_10 (Conv2D)          (None, 298, 298, 16)      448       \n",
            "                                                                 \n",
            " max_pooling2d_10 (MaxPooli  (None, 149, 149, 16)      0         \n",
            " ng2D)                                                           \n",
            "                                                                 \n",
            " conv2d_11 (Conv2D)          (None, 147, 147, 32)      4640      \n",
            "                                                                 \n",
            " max_pooling2d_11 (MaxPooli  (None, 73, 73, 32)        0         \n",
            " ng2D)                                                           \n",
            "                                                                 \n",
            " conv2d_12 (Conv2D)          (None, 71, 71, 64)        18496     \n",
            "                                                                 \n",
            " max_pooling2d_12 (MaxPooli  (None, 35, 35, 64)        0         \n",
            " ng2D)                                                           \n",
            "                                                                 \n",
            " conv2d_13 (Conv2D)          (None, 33, 33, 64)        36928     \n",
            "                                                                 \n",
            " max_pooling2d_13 (MaxPooli  (None, 16, 16, 64)        0         \n",
            " ng2D)                                                           \n",
            "                                                                 \n",
            " conv2d_14 (Conv2D)          (None, 14, 14, 64)        36928     \n",
            "                                                                 \n",
            " max_pooling2d_14 (MaxPooli  (None, 7, 7, 64)          0         \n",
            " ng2D)                                                           \n",
            "                                                                 \n",
            " flatten_3 (Flatten)         (None, 3136)              0         \n",
            "                                                                 \n",
            " dense_6 (Dense)             (None, 512)               1606144   \n",
            "                                                                 \n",
            " dense_7 (Dense)             (None, 1)                 513       \n",
            "                                                                 \n",
            "=================================================================\n",
            "Total params: 1704097 (6.50 MB)\n",
            "Trainable params: 1704097 (6.50 MB)\n",
            "Non-trainable params: 0 (0.00 Byte)\n",
            "_________________________________________________________________\n"
          ]
        }
      ]
    },
    {
      "cell_type": "markdown",
      "source": [
        "# 3. Compiling and fitting the optimizer and loss"
      ],
      "metadata": {
        "id": "hOCR3eKumTi_"
      }
    },
    {
      "cell_type": "code",
      "source": [
        "from tensorflow.keras.optimizers import RMSprop\n",
        "\n",
        "model.compile(\n",
        "    loss='binary_crossentropy',\n",
        "    optimizer=RMSprop(learning_rate=0.001),\n",
        "    metrics=['accuracy']\n",
        ")"
      ],
      "metadata": {
        "id": "1hJ73dR1lcaN"
      },
      "execution_count": 36,
      "outputs": []
    },
    {
      "cell_type": "code",
      "source": [
        "history = model.fit(\n",
        "    train_generator,\n",
        "    steps_per_epoch=8, #there are 1024 images in the training dir so we set the necessary steps per epoch  to cover all images 8 * 128 = 1042\n",
        "    epochs= 15,\n",
        "    validation_data=val_generator,\n",
        "    validation_steps=8,\n",
        "    verbose=1\n",
        ")"
      ],
      "metadata": {
        "id": "zoRyPj9dmbKu",
        "colab": {
          "base_uri": "https://localhost:8080/"
        },
        "outputId": "07a6cc42-8d1f-4d10-f2a2-b26f8577faa8"
      },
      "execution_count": null,
      "outputs": [
        {
          "output_type": "stream",
          "name": "stdout",
          "text": [
            "Epoch 1/15\n",
            "8/8 [==============================] - 89s 11s/step - loss: 0.6524 - accuracy: 0.5740 - val_loss: 0.9757 - val_accuracy: 0.5000\n",
            "Epoch 2/15\n",
            "8/8 [==============================] - 97s 12s/step - loss: 0.6855 - accuracy: 0.5645 - val_loss: 0.5459 - val_accuracy: 0.6211\n",
            "Epoch 3/15\n",
            "8/8 [==============================] - 85s 10s/step - loss: 0.4983 - accuracy: 0.8120 - val_loss: 0.2381 - val_accuracy: 0.9297\n",
            "Epoch 4/15\n",
            "8/8 [==============================] - 99s 12s/step - loss: 0.4249 - accuracy: 0.8109 - val_loss: 0.4528 - val_accuracy: 0.8633\n",
            "Epoch 5/15\n",
            "8/8 [==============================] - 86s 11s/step - loss: 0.8398 - accuracy: 0.7842 - val_loss: 0.4159 - val_accuracy: 0.9414\n",
            "Epoch 6/15\n",
            "8/8 [==============================] - 89s 11s/step - loss: 0.5912 - accuracy: 0.7720 - val_loss: 0.4193 - val_accuracy: 0.9492\n",
            "Epoch 7/15\n",
            "8/8 [==============================] - 87s 11s/step - loss: 0.4398 - accuracy: 0.8899 - val_loss: 0.3896 - val_accuracy: 0.8594\n",
            "Epoch 8/15\n",
            "8/8 [==============================] - 89s 11s/step - loss: 0.4897 - accuracy: 0.8387 - val_loss: 0.3501 - val_accuracy: 0.8867\n",
            "Epoch 9/15\n",
            "8/8 [==============================] - 90s 13s/step - loss: 0.2666 - accuracy: 0.9066 - val_loss: 0.2444 - val_accuracy: 0.9062\n",
            "Epoch 10/15\n",
            "8/8 [==============================] - 99s 11s/step - loss: 0.2224 - accuracy: 0.9210 - val_loss: 0.2861 - val_accuracy: 0.9102\n",
            "Epoch 11/15\n",
            "4/8 [==============>...............] - ETA: 44s - loss: 0.2156 - accuracy: 0.9355"
          ]
        }
      ]
    },
    {
      "cell_type": "markdown",
      "source": [
        "## 4. Predicting"
      ],
      "metadata": {
        "id": "BbjfOiALo56Y"
      }
    },
    {
      "cell_type": "code",
      "source": [
        "import numpy as np\n",
        "from google.colab import files\n",
        "from tensorflow.keras.utils import load_img, img_to_array\n",
        "\n",
        "uploaded = files.upload()\n",
        "\n",
        "for fn in uploaded.keys():\n",
        "\n",
        "  # predicting images\n",
        "  path = '/content/' + fn\n",
        "  img = load_img(path, target_size=(300, 300))\n",
        "  x = img_to_array(img)\n",
        "  x /= 255\n",
        "  x = np.expand_dims(x, axis=0)\n",
        "\n",
        "  images = np.vstack([x])\n",
        "  classes = model.predict(images, batch_size=10)\n",
        "  print(classes[0])\n",
        "\n",
        "  if classes[0]>0.5:\n",
        "    print(fn + \" is a human\")\n",
        "  else:\n",
        "    print(fn + \" is a horse\")"
      ],
      "metadata": {
        "id": "rQvDt6jNo8yE"
      },
      "execution_count": null,
      "outputs": []
    }
  ]
}