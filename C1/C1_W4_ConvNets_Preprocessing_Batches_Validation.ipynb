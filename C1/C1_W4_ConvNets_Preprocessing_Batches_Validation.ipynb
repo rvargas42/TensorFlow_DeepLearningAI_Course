{
 "cells": [
  {
   "cell_type": "markdown",
   "metadata": {
    "colab_type": "text",
    "id": "view-in-github"
   },
   "source": [
    "<a href=\"https://colab.research.google.com/github/rvargas42/TensorFlow_DeepLearningAI_Course/blob/main/C1/C1_W4_ConvNets_Preprocessing_Batches_Validation.ipynb\" target=\"_parent\"><img src=\"https://colab.research.google.com/assets/colab-badge.svg\" alt=\"Open In Colab\"/></a>"
   ]
  },
  {
   "cell_type": "markdown",
   "metadata": {
    "id": "mCATjSv8hJIf"
   },
   "source": [
    "# Convolutional Nets with real world case\n",
    "\n",
    "\n",
    "> Image Data Generator: you point it at a directory and it will generate the images in subdirectories into training and testing folders.\n",
    "\n"
   ]
  },
  {
   "cell_type": "code",
   "execution_count": 2,
   "metadata": {
    "colab": {
     "base_uri": "https://localhost:8080/"
    },
    "id": "cLHh2K28kMUx",
    "outputId": "dfec7295-98e1-46a2-8aa0-43728ac9692b"
   },
   "outputs": [
    {
     "name": "stderr",
     "output_type": "stream",
     "text": [
      "\"wget\" no se reconoce como un comando interno o externo,\n",
      "programa o archivo por lotes ejecutable.\n",
      "\"wget\" no se reconoce como un comando interno o externo,\n",
      "programa o archivo por lotes ejecutable.\n"
     ]
    }
   ],
   "source": [
    "!wget https://storage.googleapis.com/tensorflow-1-public/course2/week3/horse-or-human.zip\n",
    "!wget https://storage.googleapis.com/tensorflow-1-public/course2/week3/validation-horse-or-human.zip"
   ]
  },
  {
   "cell_type": "code",
   "execution_count": 24,
   "metadata": {
    "id": "wgl3m4V8kXxi"
   },
   "outputs": [],
   "source": [
    "import zipfile\n",
    "\n",
    "# Unzip the dataset\n",
    "local_zip = './horse-or-human.zip'\n",
    "zip_ref = zipfile.ZipFile(local_zip, 'r')\n",
    "zip_ref.extractall('./horse-or-human')\n",
    "zip_ref.close()\n",
    "\n",
    "local_zip = './validation-horse-or-human.zip'\n",
    "zip_ref = zipfile.ZipFile(local_zip, 'r')\n",
    "zip_ref.extractall('./validation-horse-or-human')\n",
    "zip_ref.close()"
   ]
  },
  {
   "cell_type": "code",
   "execution_count": 25,
   "metadata": {
    "colab": {
     "base_uri": "https://localhost:8080/"
    },
    "id": "qXydg0_6f3i2",
    "outputId": "e15b84a1-0dbd-4c13-88da-fdfc8afec99a"
   },
   "outputs": [
    {
     "name": "stdout",
     "output_type": "stream",
     "text": [
      "2.15.0\n"
     ]
    }
   ],
   "source": [
    "import tensorflow as tf\n",
    "from tensorflow import keras\n",
    "from tensorflow.keras.preprocessing.image import ImageDataGenerator\n",
    "\n",
    "\n",
    "print(tf.__version__)"
   ]
  },
  {
   "cell_type": "markdown",
   "metadata": {
    "id": "-6RVjzzCh3sx"
   },
   "source": [
    "## 1. Image Generator"
   ]
  },
  {
   "cell_type": "code",
   "execution_count": 26,
   "metadata": {
    "id": "B5rVSktJkgQ_"
   },
   "outputs": [],
   "source": [
    "import os\n",
    "\n",
    "# Directory with our training horse pictures\n",
    "train_horse_dir = os.path.join('./horse-or-human/horses')\n",
    "\n",
    "# Directory with our training human pictures\n",
    "train_human_dir = os.path.join('./horse-or-human/humans')\n",
    "\n",
    "#Directory with validation for horses\n",
    "validation_horse_dir = os.path.join('./validation-horse-human/horses')\n",
    "\n",
    "#Directory with validation for humans\n",
    "validation_horse_dir = os.path.join('./validation-horse-human/humans')"
   ]
  },
  {
   "cell_type": "code",
   "execution_count": 30,
   "metadata": {
    "colab": {
     "base_uri": "https://localhost:8080/"
    },
    "id": "xJXthkQfhIZ4",
    "outputId": "ef83f1df-b616-4c76-b993-62e65fff3f78"
   },
   "outputs": [
    {
     "name": "stdout",
     "output_type": "stream",
     "text": [
      "Found 1283 images belonging to 2 classes.\n",
      "Found 256 images belonging to 2 classes.\n"
     ]
    }
   ],
   "source": [
    "train_dir = \"./horse-or-human\"\n",
    "train_data_generator = ImageDataGenerator(rescale=1./255)\n",
    "train_generator = train_data_generator.flow_from_directory(\n",
    "    train_dir,\n",
    "    target_size=(300,300), #this is the size at which the images are resized\n",
    "    batch_size=128, #this is the number of images processed\n",
    "    class_mode='binary' #as we are building a binary classifier\n",
    ")\n",
    "\n",
    "val_dir = \"./validation-horse-or-human\"\n",
    "val_data_generator = ImageDataGenerator(rescale=(1./255))\n",
    "val_generator = val_data_generator.flow_from_directory(\n",
    "    val_dir,\n",
    "    target_size=(300,300),\n",
    "    batch_size=32,\n",
    "    class_mode='binary'\n",
    ")"
   ]
  },
  {
   "cell_type": "markdown",
   "metadata": {
    "id": "vs9Bwwd9jXfK"
   },
   "source": [
    "## 2. Designing the Model"
   ]
  },
  {
   "cell_type": "code",
   "execution_count": 34,
   "metadata": {
    "id": "z_KhWyjejQV8"
   },
   "outputs": [],
   "source": [
    "model = tf.keras.models.Sequential(\n",
    "    [\n",
    "        tf.keras.layers.Conv2D(16, (3,3), activation='relu', input_shape=(300, 300, 3)),\n",
    "        tf.keras.layers.MaxPooling2D(2, 2),\n",
    "        # The second convolution\n",
    "        tf.keras.layers.Conv2D(32, (3,3), activation='relu'),\n",
    "        tf.keras.layers.MaxPooling2D(2,2),\n",
    "        # The third convolution\n",
    "        tf.keras.layers.Conv2D(64, (3,3), activation='relu'),\n",
    "        tf.keras.layers.MaxPooling2D(2,2),\n",
    "        # The fourth convolution\n",
    "        tf.keras.layers.Conv2D(64, (3,3), activation='relu'),\n",
    "        tf.keras.layers.MaxPooling2D(2,2),\n",
    "        # The fifth convolution\n",
    "        tf.keras.layers.Conv2D(64, (3,3), activation='relu'),\n",
    "        tf.keras.layers.MaxPooling2D(2,2),\n",
    "        keras.layers.Flatten(),\n",
    "        keras.layers.Dense(512,activation='relu'),\n",
    "        keras.layers.Dense(1, activation='sigmoid') #sigmoid activation function as it is a binary classifier\n",
    "    ]\n",
    ")"
   ]
  },
  {
   "cell_type": "code",
   "execution_count": 35,
   "metadata": {
    "colab": {
     "base_uri": "https://localhost:8080/"
    },
    "id": "CpHU_uTYq6Ah",
    "outputId": "8b8ab473-4a9c-4431-89c7-991b522e9119"
   },
   "outputs": [
    {
     "name": "stdout",
     "output_type": "stream",
     "text": [
      "Model: \"sequential_3\"\n",
      "_________________________________________________________________\n",
      " Layer (type)                Output Shape              Param #   \n",
      "=================================================================\n",
      " conv2d_10 (Conv2D)          (None, 298, 298, 16)      448       \n",
      "                                                                 \n",
      " max_pooling2d_10 (MaxPooli  (None, 149, 149, 16)      0         \n",
      " ng2D)                                                           \n",
      "                                                                 \n",
      " conv2d_11 (Conv2D)          (None, 147, 147, 32)      4640      \n",
      "                                                                 \n",
      " max_pooling2d_11 (MaxPooli  (None, 73, 73, 32)        0         \n",
      " ng2D)                                                           \n",
      "                                                                 \n",
      " conv2d_12 (Conv2D)          (None, 71, 71, 64)        18496     \n",
      "                                                                 \n",
      " max_pooling2d_12 (MaxPooli  (None, 35, 35, 64)        0         \n",
      " ng2D)                                                           \n",
      "                                                                 \n",
      " conv2d_13 (Conv2D)          (None, 33, 33, 64)        36928     \n",
      "                                                                 \n",
      " max_pooling2d_13 (MaxPooli  (None, 16, 16, 64)        0         \n",
      " ng2D)                                                           \n",
      "                                                                 \n",
      " conv2d_14 (Conv2D)          (None, 14, 14, 64)        36928     \n",
      "                                                                 \n",
      " max_pooling2d_14 (MaxPooli  (None, 7, 7, 64)          0         \n",
      " ng2D)                                                           \n",
      "                                                                 \n",
      " flatten_3 (Flatten)         (None, 3136)              0         \n",
      "                                                                 \n",
      " dense_6 (Dense)             (None, 512)               1606144   \n",
      "                                                                 \n",
      " dense_7 (Dense)             (None, 1)                 513       \n",
      "                                                                 \n",
      "=================================================================\n",
      "Total params: 1704097 (6.50 MB)\n",
      "Trainable params: 1704097 (6.50 MB)\n",
      "Non-trainable params: 0 (0.00 Byte)\n",
      "_________________________________________________________________\n"
     ]
    }
   ],
   "source": [
    "model.summary()"
   ]
  },
  {
   "cell_type": "markdown",
   "metadata": {
    "id": "hOCR3eKumTi_"
   },
   "source": [
    "# 3. Compiling and fitting the optimizer and loss"
   ]
  },
  {
   "cell_type": "code",
   "execution_count": 36,
   "metadata": {
    "id": "1hJ73dR1lcaN"
   },
   "outputs": [],
   "source": [
    "from tensorflow.keras.optimizers import RMSprop\n",
    "\n",
    "model.compile(\n",
    "    loss='binary_crossentropy',\n",
    "    optimizer=RMSprop(learning_rate=0.001),\n",
    "    metrics=['accuracy']\n",
    ")"
   ]
  },
  {
   "cell_type": "code",
   "execution_count": null,
   "metadata": {
    "colab": {
     "base_uri": "https://localhost:8080/"
    },
    "id": "zoRyPj9dmbKu",
    "outputId": "07a6cc42-8d1f-4d10-f2a2-b26f8577faa8"
   },
   "outputs": [
    {
     "name": "stdout",
     "output_type": "stream",
     "text": [
      "Epoch 1/15\n",
      "8/8 [==============================] - 89s 11s/step - loss: 0.6524 - accuracy: 0.5740 - val_loss: 0.9757 - val_accuracy: 0.5000\n",
      "Epoch 2/15\n",
      "8/8 [==============================] - 97s 12s/step - loss: 0.6855 - accuracy: 0.5645 - val_loss: 0.5459 - val_accuracy: 0.6211\n",
      "Epoch 3/15\n",
      "8/8 [==============================] - 85s 10s/step - loss: 0.4983 - accuracy: 0.8120 - val_loss: 0.2381 - val_accuracy: 0.9297\n",
      "Epoch 4/15\n",
      "8/8 [==============================] - 99s 12s/step - loss: 0.4249 - accuracy: 0.8109 - val_loss: 0.4528 - val_accuracy: 0.8633\n",
      "Epoch 5/15\n",
      "8/8 [==============================] - 86s 11s/step - loss: 0.8398 - accuracy: 0.7842 - val_loss: 0.4159 - val_accuracy: 0.9414\n",
      "Epoch 6/15\n",
      "8/8 [==============================] - 89s 11s/step - loss: 0.5912 - accuracy: 0.7720 - val_loss: 0.4193 - val_accuracy: 0.9492\n",
      "Epoch 7/15\n",
      "8/8 [==============================] - 87s 11s/step - loss: 0.4398 - accuracy: 0.8899 - val_loss: 0.3896 - val_accuracy: 0.8594\n",
      "Epoch 8/15\n",
      "8/8 [==============================] - 89s 11s/step - loss: 0.4897 - accuracy: 0.8387 - val_loss: 0.3501 - val_accuracy: 0.8867\n",
      "Epoch 9/15\n",
      "8/8 [==============================] - 90s 13s/step - loss: 0.2666 - accuracy: 0.9066 - val_loss: 0.2444 - val_accuracy: 0.9062\n",
      "Epoch 10/15\n",
      "8/8 [==============================] - 99s 11s/step - loss: 0.2224 - accuracy: 0.9210 - val_loss: 0.2861 - val_accuracy: 0.9102\n",
      "Epoch 11/15\n",
      "4/8 [==============>...............] - ETA: 44s - loss: 0.2156 - accuracy: 0.9355"
     ]
    }
   ],
   "source": [
    "history = model.fit(\n",
    "    train_generator,\n",
    "    steps_per_epoch=8, #there are 1024 images in the training dir so we set the necessary steps per epoch  to cover all images 8 * 128 = 1042\n",
    "    epochs= 15,\n",
    "    validation_data=val_generator,\n",
    "    validation_steps=8,\n",
    "    verbose=1\n",
    ")"
   ]
  },
  {
   "cell_type": "markdown",
   "metadata": {
    "id": "BbjfOiALo56Y"
   },
   "source": [
    "## 4. Predicting"
   ]
  },
  {
   "cell_type": "code",
   "execution_count": null,
   "metadata": {
    "id": "rQvDt6jNo8yE"
   },
   "outputs": [],
   "source": [
    "import numpy as np\n",
    "from google.colab import files\n",
    "from tensorflow.keras.utils import load_img, img_to_array\n",
    "\n",
    "uploaded = files.upload()\n",
    "\n",
    "for fn in uploaded.keys():\n",
    "\n",
    "  # predicting images\n",
    "  path = '/content/' + fn\n",
    "  img = load_img(path, target_size=(300, 300))\n",
    "  x = img_to_array(img)\n",
    "  x /= 255\n",
    "  x = np.expand_dims(x, axis=0)\n",
    "\n",
    "  images = np.vstack([x])\n",
    "  classes = model.predict(images, batch_size=10)\n",
    "  print(classes[0])\n",
    "\n",
    "  if classes[0]>0.5:\n",
    "    print(fn + \" is a human\")\n",
    "  else:\n",
    "    print(fn + \" is a horse\")"
   ]
  }
 ],
 "metadata": {
  "colab": {
   "authorship_tag": "ABX9TyMq25FNFch9VJZKzzy8+mtk",
   "include_colab_link": true,
   "provenance": []
  },
  "kernelspec": {
   "display_name": "Python 3 (ipykernel)",
   "language": "python",
   "name": "python3"
  },
  "language_info": {
   "codemirror_mode": {
    "name": "ipython",
    "version": 3
   },
   "file_extension": ".py",
   "mimetype": "text/x-python",
   "name": "python",
   "nbconvert_exporter": "python",
   "pygments_lexer": "ipython3",
   "version": "3.9.18"
  }
 },
 "nbformat": 4,
 "nbformat_minor": 4
}
